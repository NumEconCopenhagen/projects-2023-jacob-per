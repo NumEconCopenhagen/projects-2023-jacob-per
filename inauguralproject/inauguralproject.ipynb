{
 "cells": [
  {
   "cell_type": "markdown",
   "metadata": {},
   "source": [
    "# Inaugural Project"
   ]
  },
  {
   "attachments": {},
   "cell_type": "markdown",
   "metadata": {},
   "source": [
    "> **Note the following:** \n",
    "> 1. This is an example of how to structure your **inaugural project**.\n",
    "> 1. Remember the general advice on structuring and commenting your code\n",
    "> 1. The `inauguralproject.py` file includes a function which can be used multiple times in this notebook."
   ]
  },
  {
   "cell_type": "markdown",
   "metadata": {},
   "source": [
    "Imports and set magics:"
   ]
  },
  {
   "cell_type": "code",
   "execution_count": null,
   "metadata": {},
   "outputs": [],
   "source": [
    "# autoreload modules when code is run. Otherwise, python will not see recent changes. \n",
    "%load_ext autoreload\n",
    "%autoreload 2\n",
    "\n",
    "import numpy as np\n",
    "from matplotlib import pyplot as plt\n",
    "\n",
    "# Import your own code\n",
    "from Household import HouseholdSpecializationModelClass"
   ]
  },
  {
   "cell_type": "markdown",
   "metadata": {},
   "source": [
    "# Question 1"
   ]
  },
  {
   "cell_type": "markdown",
   "metadata": {},
   "source": [
    "**Explain how you solve the model**"
   ]
  },
  {
   "cell_type": "code",
   "execution_count": null,
   "metadata": {},
   "outputs": [],
   "source": [
    "# a. Load model as the household class\n",
    "model = HouseholdSpecializationModelClass()\n",
    "\n",
    "# b. Defining the axis-values and empty H-ratio matrix for optimal solutions\n",
    "N = 3\n",
    "alpha_vec = np.linspace(0.25,0.75,N)\n",
    "sigma_vec = np.linspace(0.5,1.5,N)\n",
    "H_ratio = np.zeros((N,N))\n",
    "\n",
    "# c. Looping through alpha and sigma, solve optimal allocation and input into H-raitio matrix\n",
    "for i, alpha in enumerate(np.linspace(0.25,0.75,3)):\n",
    "    model.par.alpha = alpha #set alpha value\n",
    "    \n",
    "    for j, sigma in enumerate(np.linspace(0.5,1.5,3)):\n",
    "        model.par.sigma = sigma #set sigma value given the alpha value\n",
    "        \n",
    "        opt = model.solve_discrete() #Optimal allocation solution\n",
    "        HF = opt.HF\n",
    "        HM = opt.HM\n",
    "        H_ratio[i,j] = HF/HM #Input H_ratio into matrix\n",
    "\n",
    "print(H_ratio)"
   ]
  },
  {
   "attachments": {},
   "cell_type": "markdown",
   "metadata": {},
   "source": [
    "Plotting the figure in 3d"
   ]
  },
  {
   "cell_type": "code",
   "execution_count": null,
   "metadata": {},
   "outputs": [],
   "source": [
    "from matplotlib import cm # for colormaps\n",
    "# %matplotlib widget\n",
    "\n",
    "# a. actual plot\n",
    "fig = plt.figure()\n",
    "ax = fig.add_subplot(1,1,1,projection='3d')\n",
    "alpha_mesh,sigma_mesh = np.meshgrid(alpha_vec,sigma_vec,indexing='ij')\n",
    "ax.plot_surface(alpha_mesh,sigma_mesh,H_ratio)\n",
    "\n",
    "# b. add labels\n",
    "ax.set_xlabel('$Alpha$') # Notice latex syntax\n",
    "ax.set_ylabel('$Sigma$')\n",
    "ax.set_zlabel('$HF/HM$')\n",
    "\n",
    "# c. invert xaxis to bring Origin in center front\n",
    "ax.invert_xaxis()\n",
    "\n",
    "# ax.invert_yaxis()\n",
    "fig.tight_layout()\n"
   ]
  },
  {
   "cell_type": "markdown",
   "metadata": {},
   "source": [
    "# Question 2"
   ]
  },
  {
   "cell_type": "markdown",
   "metadata": {},
   "source": [
    "Explain your code and procedure"
   ]
  },
  {
   "cell_type": "code",
   "execution_count": null,
   "metadata": {},
   "outputs": [],
   "source": [
    "# code"
   ]
  },
  {
   "cell_type": "markdown",
   "metadata": {},
   "source": [
    "# Question 3"
   ]
  },
  {
   "cell_type": "markdown",
   "metadata": {},
   "source": [
    "Explain your code and procedure"
   ]
  },
  {
   "cell_type": "code",
   "execution_count": null,
   "metadata": {},
   "outputs": [],
   "source": [
    "# code"
   ]
  },
  {
   "cell_type": "markdown",
   "metadata": {},
   "source": [
    "ADD CONCISE CONLUSION."
   ]
  }
 ],
 "metadata": {
  "kernelspec": {
   "display_name": "base",
   "language": "python",
   "name": "python3"
  },
  "language_info": {
   "codemirror_mode": {
    "name": "ipython",
    "version": 3
   },
   "file_extension": ".py",
   "mimetype": "text/x-python",
   "name": "python",
   "nbconvert_exporter": "python",
   "pygments_lexer": "ipython3",
   "version": "3.9.16"
  },
  "toc-autonumbering": true,
  "vscode": {
   "interpreter": {
    "hash": "47ef90cdf3004d3f859f1fb202523c65c07ba7c22eefd261b181f4744e2d0403"
   }
  }
 },
 "nbformat": 4,
 "nbformat_minor": 4
}
