{
 "cells": [
  {
   "cell_type": "code",
   "execution_count": 2,
   "metadata": {},
   "outputs": [
    {
     "name": "stdout",
     "output_type": "stream",
     "text": [
      "The autoreload extension is already loaded. To reload it, use:\n",
      "  %reload_ext autoreload\n"
     ]
    }
   ],
   "source": [
    "import numpy as np\n",
    "from scipy import optimize\n",
    "import sympy as sm\n",
    "import matplotlib.pyplot as plt\n",
    "\n",
    "# autoreload modules when code is run\n",
    "%load_ext autoreload\n",
    "%autoreload 2\n"
   ]
  },
  {
   "attachments": {},
   "cell_type": "markdown",
   "metadata": {},
   "source": [
    "**We will now analytically calculate the savingsrate using sympy.**"
   ]
  },
  {
   "attachments": {},
   "cell_type": "markdown",
   "metadata": {},
   "source": [
    "We will first define the variables and parameters."
   ]
  },
  {
   "cell_type": "code",
   "execution_count": 33,
   "metadata": {},
   "outputs": [],
   "source": [
    "# a. variables\n",
    "U = sm.symbols('U_t')\n",
    "C1 = sm.symbols('C_{1t}')\n",
    "C2 = sm.symbols('C_{2t+1}')\n",
    "E = sm.symbols('E_t')\n",
    "r = sm.symbols('r_t')\n",
    "r_lead = sm.symbols('r_{t+1}')\n",
    "s = sm.symbols('s_t')\n",
    "w = sm.symbols('w_t')\n",
    "w_lag = sm.symbols('w_{t-1}')\n",
    "\n",
    "# b. parameters\n",
    "sigma = sm.symbols('sigma')\n",
    "beta = sm.symbols('beta')\n",
    "tau = sm.symbols('tau')"
   ]
  },
  {
   "attachments": {},
   "cell_type": "markdown",
   "metadata": {},
   "source": [
    "We now use simpy to set of the implication of the utility maximization"
   ]
  },
  {
   "cell_type": "code",
   "execution_count": 56,
   "metadata": {},
   "outputs": [
    {
     "data": {
      "text/latex": [
       "$\\displaystyle C_{1t}^{- \\sigma} = C_{2t+1}^{- \\sigma} \\beta \\left(r_{t+1} + 1\\right)$"
      ],
      "text/plain": [
       "Eq(C_{1t}**(-sigma), beta*(r_{t+1} + 1)/C_{2t+1}**sigma)"
      ]
     },
     "execution_count": 56,
     "metadata": {},
     "output_type": "execute_result"
    }
   ],
   "source": [
    "# a. the left and right hands side\n",
    "LHS = C1**(-sigma)\n",
    "RHS = beta*(1+r_lead)*C2**(-sigma)\n",
    "\n",
    "# b. the equation\n",
    "utilty_max = sm.Eq(LHS,RHS)\n",
    "utilty_max\n",
    "\n",
    "# c. define budget constraints\n",
    "Cp1 = (1-tau)*w*(1-s)\n",
    "Cp2FF = (1+r)*(s+tau*w_lag)\n",
    "Cp2PAYG = (1+r)*s+E*tau*w"
   ]
  },
  {
   "attachments": {},
   "cell_type": "markdown",
   "metadata": {},
   "source": [
    "We will now use simpy to calculate the optimal savingsrate with a fully funded pension system."
   ]
  },
  {
   "cell_type": "code",
   "execution_count": 138,
   "metadata": {},
   "outputs": [
    {
     "data": {
      "text/latex": [
       "$\\displaystyle s_{t} = \\frac{- \\beta^{\\frac{1}{\\sigma}} \\tau w_{t} \\left(r_{t+1} + 1\\right)^{\\frac{1}{\\sigma}} + \\beta^{\\frac{1}{\\sigma}} w_{t} \\left(r_{t+1} + 1\\right)^{\\frac{1}{\\sigma}} - r_{t} \\tau w_{t-1} - \\tau w_{t-1}}{- \\beta^{\\frac{1}{\\sigma}} \\tau w_{t} \\left(r_{t+1} + 1\\right)^{\\frac{1}{\\sigma}} + \\beta^{\\frac{1}{\\sigma}} w_{t} \\left(r_{t+1} + 1\\right)^{\\frac{1}{\\sigma}} + r_{t} + 1}$"
      ],
      "text/plain": [
       "Eq(s_t, (-beta**(1/sigma)*tau*w_t*(r_{t+1} + 1)**(1/sigma) + beta**(1/sigma)*w_t*(r_{t+1} + 1)**(1/sigma) - r_t*tau*w_{t-1} - tau*w_{t-1})/(-beta**(1/sigma)*tau*w_t*(r_{t+1} + 1)**(1/sigma) + beta**(1/sigma)*w_t*(r_{t+1} + 1)**(1/sigma) + r_t + 1))"
      ]
     },
     "execution_count": 138,
     "metadata": {},
     "output_type": "execute_result"
    }
   ],
   "source": [
    "# a. substitue in the budget constraints\n",
    "LHS = LHS.subs(C1,Cp1)\n",
    "RHS_FF = RHS.subs(C2,Cp2FF)\n",
    "\n",
    "# b. divide each side with '**(-1/sigma)' as the solver is unable to solve the equation otherwise\n",
    "LHS = w*(1-s)*(1-tau)\n",
    "RHS_FF = beta**(-1/sigma)*((1+r)*(s+tau*w_lag))*(1+r_lead)**(-1/sigma)\n",
    "\n",
    "# c. equation\n",
    "utilityFF_max = sm.Eq(LHS,RHS_FF)\n",
    "\n",
    "# d. solve for savingsrate\n",
    "savingsFF = sm.solve(utilityFF_max,s)\n",
    "savingsFFeq = sm.Eq(s,savingsFF[0])\n",
    "savingsFFeq # sympy is unable to simplify the equation"
   ]
  },
  {
   "attachments": {},
   "cell_type": "markdown",
   "metadata": {},
   "source": [
    "Now we to calculate the optimal savingsrate with a pay as you go pension system."
   ]
  },
  {
   "cell_type": "code",
   "execution_count": 137,
   "metadata": {},
   "outputs": [
    {
     "data": {
      "text/latex": [
       "$\\displaystyle s_{t} = \\frac{w_{t} \\left(- E_{t} \\tau - \\beta^{\\frac{1}{\\sigma}} \\tau \\left(r_{t+1} + 1\\right)^{\\frac{1}{\\sigma}} + \\beta^{\\frac{1}{\\sigma}} \\left(r_{t+1} + 1\\right)^{\\frac{1}{\\sigma}}\\right)}{- \\beta^{\\frac{1}{\\sigma}} \\tau w_{t} \\left(r_{t+1} + 1\\right)^{\\frac{1}{\\sigma}} + \\beta^{\\frac{1}{\\sigma}} w_{t} \\left(r_{t+1} + 1\\right)^{\\frac{1}{\\sigma}} + r_{t} + 1}$"
      ],
      "text/plain": [
       "Eq(s_t, w_t*(-E_t*tau - beta**(1/sigma)*tau*(r_{t+1} + 1)**(1/sigma) + beta**(1/sigma)*(r_{t+1} + 1)**(1/sigma))/(-beta**(1/sigma)*tau*w_t*(r_{t+1} + 1)**(1/sigma) + beta**(1/sigma)*w_t*(r_{t+1} + 1)**(1/sigma) + r_t + 1))"
      ]
     },
     "execution_count": 137,
     "metadata": {},
     "output_type": "execute_result"
    }
   ],
   "source": [
    "# a. substitue in the budget constraints\n",
    "RHS_PAYG = RHS.subs(C2,Cp2PAYG)\n",
    "\n",
    "# b. divide each side with '**(-1/sigma)'\n",
    "RHS_PAYG = beta**(-1/sigma)*(1+r_lead)**(-1/sigma)*(E*tau*w+s*(1+r))\n",
    "\n",
    "# c. equation\n",
    "utilityPAYG_max = sm.Eq(LHS,RHS_PAYG)\n",
    "\n",
    "# d. solve for savingsrate\n",
    "savingsPAYG = sm.solve(utilityPAYG_max,s)\n",
    "savingsPAYGeq = sm.Eq(s,savingsPAYG[0])\n",
    "savingsPAYGeq # sympy is unable to simplify the equation"
   ]
  }
 ],
 "metadata": {
  "kernelspec": {
   "display_name": "base",
   "language": "python",
   "name": "python3"
  },
  "language_info": {
   "codemirror_mode": {
    "name": "ipython",
    "version": 3
   },
   "file_extension": ".py",
   "mimetype": "text/x-python",
   "name": "python",
   "nbconvert_exporter": "python",
   "pygments_lexer": "ipython3",
   "version": "3.9.16"
  },
  "orig_nbformat": 4
 },
 "nbformat": 4,
 "nbformat_minor": 2
}
