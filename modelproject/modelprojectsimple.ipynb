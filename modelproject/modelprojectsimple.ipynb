{
 "cells": [
  {
   "cell_type": "markdown",
   "metadata": {},
   "source": [
    "# YOUR PROJECT TITLE"
   ]
  },
  {
   "attachments": {},
   "cell_type": "markdown",
   "metadata": {},
   "source": [
    "> **Note the following:** \n",
    "> 1. This is *not* meant to be an example of an actual **model analysis project**, just an example of how to structure such a project.\n",
    "> 1. Remember the general advice on structuring and commenting your code\n",
    "> 1. The `modelproject.py` file includes a function which could be used multiple times in this notebook."
   ]
  },
  {
   "cell_type": "markdown",
   "metadata": {},
   "source": [
    "Imports and set magics:"
   ]
  },
  {
   "cell_type": "code",
   "execution_count": 1,
   "metadata": {},
   "outputs": [],
   "source": [
    "import numpy as np\n",
    "from scipy import optimize\n",
    "import sympy as sm\n",
    "import matplotlib.pyplot as plt\n",
    "\n",
    "# autoreload modules when code is run\n",
    "%load_ext autoreload\n",
    "%autoreload 2\n",
    "\n",
    "# local modules\n",
    "from OLGModelsimple import OLGModelClass"
   ]
  },
  {
   "cell_type": "markdown",
   "metadata": {},
   "source": [
    "# Model description"
   ]
  },
  {
   "cell_type": "markdown",
   "metadata": {},
   "source": [
    "**Write out the model in equations here.** \n",
    "\n",
    "Make sure you explain well the purpose of the model and comment so that other students who may not have seen it before can follow.  "
   ]
  },
  {
   "attachments": {},
   "cell_type": "markdown",
   "metadata": {},
   "source": [
    "**Time:** Discrete and indexed by $t\\in\\{0,1,\\dots\\}$."
   ]
  },
  {
   "attachments": {},
   "cell_type": "markdown",
   "metadata": {},
   "source": [
    "**Demographics:** Population is constant. A life consists of\n",
    "two periods, *young* and *old*."
   ]
  },
  {
   "attachments": {},
   "cell_type": "markdown",
   "metadata": {},
   "source": [
    "**Households:** As young a household supplies labor exogenously, $L_{t}=1$, and earns a after tax wage $(1-\\tau_w)w_{t}$. Consumption as young and old\n",
    "are denoted by $C_{1t}$ and $C_{2t+1}$. The after-tax return on saving is $(1-\\tau_{r})r_{t+1}$. Utility is\n",
    "    \n",
    "$$\n",
    "\\begin{aligned}\n",
    "U & =\\max_{s_{t}\\in[0,1]}\\frac{C_{1t}^{1-\\sigma}}{1-\\sigma}+\\beta\\frac{C_{1t+1}^{1-\\sigma}}{1-\\sigma},\\,\\,\\,\\beta > -1, \\sigma > 0\\\\\n",
    " & \\text{s.t.}\\\\\n",
    " & S_{t}=s_{t}(1-\\tau_{w})w_{t}\\\\\n",
    " & C_{1t}=(1-s_{t})(1-\\tau_{w})w_{t}\\\\\n",
    " & C_{2t+1}=(1+(1-\\tau_{r})r_{t+1})S_{t}\n",
    "\\end{aligned}\n",
    "$$\n",
    "    \n",
    "The problem is formulated in terms of the saving rate $s_t\\in[0,1]$."
   ]
  },
  {
   "attachments": {},
   "cell_type": "markdown",
   "metadata": {},
   "source": [
    "**Firms:** Firms rent capital $K_{t-1}$ at the rental rate $r_{t}^{K}$,\n",
    "and hires labor $E_{t}$ at the wage rate $w_{t}$. Firms have access\n",
    "to the production function\n",
    "    \n",
    "$$\n",
    "\\begin{aligned}\n",
    "Y_{t}=F(K_{t-1},E_{t})=(\\alpha K_{t-1}^{-\\theta}+(1-\\alpha)E_{t}^{-\\theta})^{\\frac{1}{-\\theta}},\\,\\,\\,\\theta>-1,\\alpha\\in(0,1)\n",
    "\\end{aligned}\n",
    "$$\n",
    "    \n",
    "Profits are\n",
    "    \n",
    "$$\n",
    "\\begin{aligned}\n",
    "\\Pi_{t}=Y_{t}-w_{t}E_{t}-r_{t}^{K}K_{t-1}\n",
    "\\end{aligned}\n",
    "$$"
   ]
  },
  {
   "attachments": {},
   "cell_type": "markdown",
   "metadata": {},
   "source": [
    "**Government:** Choose public consumption, $G_{t}$, and tax rates $\\tau_w \\in [0,1]$ and $\\tau_r \\in [0,1]$. Total tax revenue is\n",
    "    \n",
    "$$\n",
    "\\begin{aligned}\n",
    "T_{t} &=\\tau_r r_{t} (K_{t-1}+B_{t-1})+\\tau_w w_{t}   \n",
    "\\end{aligned}\n",
    "$$\n",
    "    \n",
    "Government debt accumulates according to\n",
    "    \n",
    "$$\n",
    "\\begin{aligned}\n",
    "B_{t} &=(1+r^b_{t})B_{t-1}-T_{t}+G_{t} \n",
    "\\end{aligned}\n",
    "$$\n",
    "       \n",
    "A *balanced budget* implies $G_{t}=T_{t}-r_{t}B_{t-1}$."
   ]
  },
  {
   "attachments": {},
   "cell_type": "markdown",
   "metadata": {},
   "source": [
    "**Capital:** Depreciates with a rate of $\\delta \\in [0,1]$."
   ]
  },
  {
   "attachments": {},
   "cell_type": "markdown",
   "metadata": {},
   "source": [
    "**Equilibrium:**\n",
    "\n",
    "1. Households maximize utility\n",
    "2. Firms maximize profits\n",
    "3. No-arbitrage between bonds and capital\n",
    "\n",
    "    $$\n",
    "    r_{t}=r_{t}^{K}-\\delta=r_{t}^{b}\n",
    "    $$\n",
    "\n",
    "4. Labor market clears: $E_{t}=L_{t}=1$\n",
    "5. Goods market clears: $Y_{t}=C_{1t}+C_{2t}+G_{t}+I_{t}$\n",
    "6. Asset market clears: $S_{t}=K_{t}+B_{t}$\n",
    "7. Capital follows its law of motion: $K_{t}=(1-\\delta)K_{t-1}+I_{t}$"
   ]
  },
  {
   "attachments": {},
   "cell_type": "markdown",
   "metadata": {},
   "source": [
    "**Implication of profit maximization:** From FOCs\n",
    "\n",
    "$$\n",
    "\\begin{aligned}\n",
    "r_{t}^{k} & =F_{K}(K_{t-1},E_{t})=\\alpha K_{t-1}^{-\\theta-1}Y_{t}^{1+\\theta}\\\\\n",
    "w_{t} & =F_{E}(K_{t-1},E_{t})=(1-\\alpha)E_{t}^{-\\theta-1}Y_{t}^{1+\\theta}\n",
    "\\end{aligned}\n",
    "$$\n",
    "\n",
    "**Implication of utility maximization:** From FOC\n",
    "\n",
    "$$\n",
    "\\begin{aligned}\n",
    "C_{1t}^{-\\sigma}=\\beta (1+(1-\\tau_r)r_{t+1})C_{2t+1}^{-\\sigma}\n",
    "\\end{aligned}\n",
    "$$"
   ]
  },
  {
   "attachments": {},
   "cell_type": "markdown",
   "metadata": {},
   "source": [
    "**Simulation algorithm:** At the beginning of period $t$, the\n",
    "economy can be summarized in the state variables $K_{t-1}$ and $B_{t-1}$.  *Before* $s_t$ is known, we can calculate:\n",
    "\n",
    "$$\n",
    "\\begin{aligned}\n",
    "Y_{t} & =F(K_{t-1},1)\\\\\n",
    "r_{t}^{k} & =F_{K}(K_{t-1},1)\\\\\n",
    "w_{t} & =F_{E}(K_{t-1},1)\\\\\n",
    "r_{t} & =r^k_{t}-\\delta\\\\\n",
    "r_{t}^{b} & =r_{t}\\\\\n",
    "\\tilde{r}_{t} & =(1-\\tau_{r})r_{t}\\\\\n",
    "C_{2t} & =(1+\\tilde{r}_{t})(K_{t-1}+B_{t-1})\\\\\n",
    "T_{t} & =\\tau_{r}r_{t}(K_{t-1}+B_{t-1})+\\tau_{w}w_{t}\\\\\n",
    "B_{t} & =(1+r^b_{t})B_{t-1}+T_{t}-G_{t}\\\\\n",
    "\\end{aligned}\n",
    "$$\n",
    "\n",
    "*After* $s_t$ is known we can calculate:\n",
    "\n",
    "$$\n",
    "\\begin{aligned}\n",
    "C_{1t} & = (1-s_{t})(1-\\tau_{w})w_{t}\\\\\n",
    "I_{t} & =Y_{t}-C_{1t}-C_{2t}-G_{t}\\\\\n",
    "K_{t} & =(1-\\delta)K_{t-1} + I_t\n",
    "\\end{aligned}\n",
    "$$"
   ]
  },
  {
   "attachments": {},
   "cell_type": "markdown",
   "metadata": {},
   "source": [
    "**Solution algorithm:** Simulate forward choosing $s_{t}$ so\n",
    "that we always have\n",
    "\n",
    "$$\n",
    "\\begin{aligned}\n",
    "C_{1t}^{-\\sigma}=\\beta(1+\\tilde{r}_{t+1})C_{2t+1}^{-\\sigma}\n",
    "\\end{aligned}\n",
    "$$"
   ]
  },
  {
   "cell_type": "markdown",
   "metadata": {},
   "source": [
    "## Analytical solution"
   ]
  },
  {
   "cell_type": "markdown",
   "metadata": {},
   "source": [
    "If your model allows for an analytical solution, you should provide here.\n",
    "\n",
    "You may use Sympy for this. Then you can characterize the solution as a function of a parameter of the model.\n",
    "\n",
    "To characterize the solution, first derive a steady state equation as a function of a parameter using Sympy.solve and then turn it into a python function by Sympy.lambdify. See the lecture notes for details. "
   ]
  },
  {
   "cell_type": "markdown",
   "metadata": {},
   "source": [
    "## Numerical solution"
   ]
  },
  {
   "attachments": {},
   "cell_type": "markdown",
   "metadata": {},
   "source": [
    "Setup of model"
   ]
  },
  {
   "cell_type": "code",
   "execution_count": 2,
   "metadata": {},
   "outputs": [
    {
     "name": "stdout",
     "output_type": "stream",
     "text": [
      "initializing the model:\n",
      "calling .setup()\n",
      "calling .allocate()\n"
     ]
    }
   ],
   "source": [
    "model = OLGModelClass()\n",
    "par = model.par # SimpeNamespace\n",
    "sim = model.sim # SimpeNamespace\n",
    "\n",
    "# a. production\n",
    "par.production_function = 'cobb-douglas'\n",
    "par.theta = 0.0\n",
    "\n",
    "# b. households\n",
    "par.sigma = 1.0\n",
    "\n",
    "# c. government\n",
    "par.tau_w = 0.0\n",
    "par.tau_r = 0.0\n",
    "sim.balanced_budget[:] = True # G changes to achieve this\n",
    "\n",
    "# d. initial values\n",
    "K_ss = ((1-par.alpha)/((1+1.0/par.beta)))**(1/(1-par.alpha))\n",
    "par.K_lag_ini = K_ss"
   ]
  },
  {
   "attachments": {},
   "cell_type": "markdown",
   "metadata": {},
   "source": [
    "Run model with and without shock to amount of labor"
   ]
  },
  {
   "cell_type": "code",
   "execution_count": 3,
   "metadata": {},
   "outputs": [
    {
     "name": "stdout",
     "output_type": "stream",
     "text": [
      "simulation done in 0.04 secs\n",
      "simulation done in 0.03 secs\n"
     ]
    },
    {
     "data": {
      "image/png": "[encoded data removed]",
      "text/plain": [
       "<Figure size 600x400 with 1 Axes>"
      ]
     },
     "metadata": {},
     "output_type": "display_data"
    }
   ],
   "source": [
    "fig = plt.figure(figsize=(6,6/1.5))\n",
    "ax = fig.add_subplot(1,1,1)\n",
    "\n",
    "model.simulate(shock=True)\n",
    "baseline = model.sim\n",
    "ax.plot(baseline.K,label='No tax K')\n",
    "par.tau_w = 0.25\n",
    "model.simulate(shock=True)\n",
    "shockmodel = model.sim\n",
    "\n",
    "ax.plot(shockmodel.K,label='With tax K')\n",
    "ax.legend(frameon=True)\n",
    "plt.ylim([0.0, 0.25])\n",
    "plt.xlim([0,10])\n",
    "fig.tight_layout()\n",
    "\n",
    "par.tau_w=0.0\n"
   ]
  },
  {
   "cell_type": "markdown",
   "metadata": {},
   "source": [
    "You can always solve a model numerically. \n",
    "\n",
    "Define first the set of parameters you need. \n",
    "\n",
    "Then choose one of the optimization algorithms that we have gone through in the lectures based on what you think is most fitting for your model.\n",
    "\n",
    "Are there any problems with convergence? Does the model converge for all starting values? Make a lot of testing to figure these things out. "
   ]
  },
  {
   "cell_type": "markdown",
   "metadata": {},
   "source": [
    "# Further analysis"
   ]
  },
  {
   "cell_type": "markdown",
   "metadata": {},
   "source": [
    "Make detailed vizualizations of how your model changes with parameter values. \n",
    "\n",
    "Try to make an extension of the model. "
   ]
  },
  {
   "cell_type": "markdown",
   "metadata": {},
   "source": [
    "# Conclusion"
   ]
  },
  {
   "cell_type": "markdown",
   "metadata": {},
   "source": [
    "Add concise conclusion. "
   ]
  }
 ],
 "metadata": {
  "kernelspec": {
   "display_name": "base",
   "language": "python",
   "name": "python3"
  },
  "language_info": {
   "codemirror_mode": {
    "name": "ipython",
    "version": 3
   },
   "file_extension": ".py",
   "mimetype": "text/x-python",
   "name": "python",
   "nbconvert_exporter": "python",
   "pygments_lexer": "ipython3",
   "version": "3.9.16"
  },
  "toc-autonumbering": true,
  "vscode": {
   "interpreter": {
    "hash": "47ef90cdf3004d3f859f1fb202523c65c07ba7c22eefd261b181f4744e2d0403"
   }
  }
 },
 "nbformat": 4,
 "nbformat_minor": 4
}
