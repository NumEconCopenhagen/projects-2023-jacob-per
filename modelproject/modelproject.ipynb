{
 "cells": [
  {
   "attachments": {},
   "cell_type": "markdown",
   "metadata": {},
   "source": [
    "# The effect of labor supply changes in an OLG-model with different pension systems"
   ]
  },
  {
   "cell_type": "markdown",
   "metadata": {},
   "source": [
    "Imports and set magics:"
   ]
  },
  {
   "cell_type": "code",
   "execution_count": 1,
   "metadata": {},
   "outputs": [],
   "source": [
    "import numpy as np\n",
    "from scipy import optimize\n",
    "import sympy as sm\n",
    "import matplotlib.pyplot as plt\n",
    "\n",
    "# autoreload modules when code is run\n",
    "%load_ext autoreload\n",
    "%autoreload 2\n",
    "\n",
    "# local modules\n",
    "from OLGModelsimple import OLGModelClass"
   ]
  },
  {
   "cell_type": "markdown",
   "metadata": {},
   "source": [
    "# Model description"
   ]
  },
  {
   "attachments": {},
   "cell_type": "markdown",
   "metadata": {},
   "source": [
    "**Time:** Discrete and indexed by $t\\in\\{0,1,\\dots\\}$."
   ]
  },
  {
   "attachments": {},
   "cell_type": "markdown",
   "metadata": {},
   "source": [
    "**Demographics:** Population is constant. A life consists of\n",
    "two periods, *young* and *old*."
   ]
  },
  {
   "attachments": {},
   "cell_type": "markdown",
   "metadata": {},
   "source": [
    "**Households:** As young a household supplies labor exogenously, $L_{t}=1$, and earns a after tax wage $(1-\\tau_w)w_{t}$. Consumption as young and old\n",
    "are denoted by $C_{1t}$ and $C_{2t+1}$. The after-tax return on saving is $(1-\\tau_{r})r_{t+1}$. Utility is\n",
    "    \n",
    "$$\n",
    "\\begin{aligned}\n",
    "U & =\\max_{s_{t}\\in[0,1]}\\frac{C_{1t}^{1-\\sigma}}{1-\\sigma}+\\beta\\frac{C_{2t+1}^{1-\\sigma}}{1-\\sigma},\\,\\,\\,\\beta > -1, \\sigma > 0\\\\\n",
    " & \\text{s.t.}\\\\\n",
    " & S_{t}=s_{t}(1-\\tau_{w})w_{t}\n",
    "\\end{aligned}\n",
    "$$\n",
    "    \n",
    "The problem is formulated in terms of the saving rate $s_t\\in[0,1]$, with the taxrate $\\tau \\in [0,1]$."
   ]
  },
  {
   "attachments": {},
   "cell_type": "markdown",
   "metadata": {},
   "source": [
    "Fully Funded (FF):\n",
    "Government raises contributions from the young, invests these and pays them out with interes as benefits in the next period, giving the following budget constraints\n",
    "$$C_{1t}+s_t = w_t(1-\\tau)$$\n",
    "$$C_{2t+1} = (1+r_{t+1})(s_t+\\tau w_t)$$\n",
    "\n",
    "Pay As You Go (PAYG):\n",
    "Goverment raises contributions from current young, and pays them out as benefits to current old, giving the following budget constraints:\n",
    "$$C_{1t}+s_t=w_t(1-\\tau)$$\n",
    "$$C_{2t+1}=(1+r_{t+1})s_t+E_{t+1}\\tau w_{t+1}$$\n",
    "where $E_{t}$ is the laborforce."
   ]
  },
  {
   "attachments": {},
   "cell_type": "markdown",
   "metadata": {},
   "source": [
    "**Firms:** Firms rent capital $K_{t-1}$ at the rental rate $r_{t}^{K}$,\n",
    "and hires labor $E_{t}$ at the wage rate $w_{t}$. Firms have access\n",
    "to the production function\n",
    "    \n",
    "$$\n",
    "\\begin{aligned}\n",
    "Y_{t}=F(K_{t-1},E_{t})=(\\alpha K_{t-1}^{-\\theta}+(1-\\alpha)E_{t}^{-\\theta})^{\\frac{1}{-\\theta}},\\,\\,\\,\\theta>-1,\\alpha\\in(0,1)\n",
    "\\end{aligned}\n",
    "$$\n",
    "    \n",
    "Profits are\n",
    "    \n",
    "$$\n",
    "\\begin{aligned}\n",
    "\\Pi_{t}=Y_{t}-w_{t}E_{t}-r_{t}K_{t-1}\n",
    "\\end{aligned}\n",
    "$$"
   ]
  },
  {
   "attachments": {},
   "cell_type": "markdown",
   "metadata": {},
   "source": [
    "**Equilibrium:**\n",
    "\n",
    "1. Households maximize utility\n",
    "2. Firms maximize profits\n",
    "4. Labor market clears: $E_{t}=L_{t}$\n",
    "5. Goods market clears: $Y_{t}=C_{1t}+C_{2t}+S_{t}$\n",
    "6. Asset market clears: $S_{t}=K_{t}$\n",
    "7. Capital follows its law of motion: $K_{t}=(1-\\delta)K_{t-1}+S_{t}$\n",
    "\n",
    "**Capital:** Depreciates fully as the old spend their entire savings, such that $\\delta = 1$."
   ]
  },
  {
   "cell_type": "markdown",
   "metadata": {},
   "source": [
    "## Analytical solution"
   ]
  },
  {
   "attachments": {},
   "cell_type": "markdown",
   "metadata": {},
   "source": [
    "**Simulation algorithm:** At the beginning of period $t$, the\n",
    "economy can be summarized in the state variables $K_{t-1}$.  We therefore have an economy that can be described by the following relations:\n",
    "\n",
    "$$\n",
    "\\begin{aligned}\n",
    "Y_{t} & =F(K_{t-1},E_t)\\\\\n",
    "r_{t} & =F_{K}(K_{t-1},E_t)\\\\\n",
    "w_{t} & =F_{E}(K_{t-1},E_t)\\\\\n",
    "\\text{FF: }C_{2t} & =(1+r_{t})(K_{t-1}+\\tau w_{t-1})\\\\\n",
    "\\text{PAYG: }C_{2t} & =(1+r_{t})K_{t-1}+E_{t}\\tau w_{t}\\\\\n",
    "\n",
    "\\end{aligned}\n",
    "$$\n",
    "\n",
    "Where:\n",
    "\n",
    "$$\n",
    "\\begin{aligned}\n",
    "C_{1t} & = (1-\\tau)w_{t}-s_t\\\\\n",
    "I_{t} & =Y_{t}-C_{1t}-C_{2t}\\\\\n",
    "K_{t} & =(1-\\delta)K_{t-1} + I_t\n",
    "\\end{aligned}\n",
    "$$"
   ]
  },
  {
   "cell_type": "markdown",
   "metadata": {},
   "source": [
    "**Implication of profit maximization:** From FOCs\n",
    "\n",
    "$$\n",
    "\\begin{aligned}\n",
    "r_{t} & =F_{K}(K_{t-1},E_{t})=\\alpha K_{t-1}^{-\\theta-1}Y_{t}^{1+\\theta}\\\\\n",
    "w_{t} & =F_{E}(K_{t-1},E_{t})=(1-\\alpha)E_{t}^{-\\theta-1}Y_{t}^{1+\\theta}\n",
    "\\end{aligned}\n",
    "$$\n",
    "\n",
    "**Implication of utility maximization:** From FOC\n",
    "\n",
    "$$\n",
    "\\begin{aligned}\n",
    "C_{1t}^{-\\sigma}=\\beta (1+r_{t+1})C_{2t+1}^{-\\sigma}\n",
    "\\end{aligned}\n",
    "$$\n",
    "\n"
   ]
  },
  {
   "attachments": {},
   "cell_type": "markdown",
   "metadata": {},
   "source": [
    "**We will now analytically calculate the savingsrate using sympy**"
   ]
  },
  {
   "cell_type": "markdown",
   "metadata": {},
   "source": [
    "We will first define the variables and parameters."
   ]
  },
  {
   "cell_type": "code",
   "execution_count": 2,
   "metadata": {},
   "outputs": [],
   "source": [
    "# a. variables\n",
    "U = sm.symbols('U_t')\n",
    "C1 = sm.symbols('C_{1t}')\n",
    "C2 = sm.symbols('C_{2t+1}')\n",
    "E = sm.symbols('E_t')\n",
    "r = sm.symbols('r_t')\n",
    "r_lead = sm.symbols('r_{t+1}')\n",
    "s = sm.symbols('s_t')\n",
    "w = sm.symbols('w_t')\n",
    "w_lag = sm.symbols('w_{t-1}')\n",
    "\n",
    "# b. parameters\n",
    "sigma = sm.symbols('sigma')\n",
    "beta = sm.symbols('beta')\n",
    "tau = sm.symbols('tau')"
   ]
  },
  {
   "attachments": {},
   "cell_type": "markdown",
   "metadata": {},
   "source": [
    "We now use sympy to set of the implication of the utility maximization"
   ]
  },
  {
   "cell_type": "code",
   "execution_count": 12,
   "metadata": {},
   "outputs": [
    {
     "name": "stdout",
     "output_type": "stream",
     "text": [
      "We have now defined the implication of utility maximization from the FOC:\n"
     ]
    },
    {
     "data": {
      "text/latex": [
       "$\\displaystyle C_{1t}^{- \\sigma} = C_{2t+1}^{- \\sigma} \\beta \\left(r_{t+1} + 1\\right)$"
      ],
      "text/plain": [
       "Eq(C_{1t}**(-sigma), beta*(r_{t+1} + 1)/C_{2t+1}**sigma)"
      ]
     },
     "metadata": {},
     "output_type": "display_data"
    }
   ],
   "source": [
    "# a. the left and right hands side\n",
    "LHS = C1**(-sigma)\n",
    "RHS = beta*(1+r_lead)*C2**(-sigma)\n",
    "\n",
    "# b. the equation\n",
    "utility_max = sm.Eq(LHS,RHS)\n",
    "\n",
    "# c. define budget constraints\n",
    "Cp1 = (1-tau)*w*(1-s)\n",
    "Cp2FF = (1+r)*(s+tau*w_lag)\n",
    "Cp2PAYG = (1+r)*s+E*tau*w\n",
    "\n",
    "print('We have now defined the implication of utility maximization from the FOC:')\n",
    "display(utility_max)"
   ]
  },
  {
   "attachments": {},
   "cell_type": "markdown",
   "metadata": {},
   "source": [
    "We will now use sympy to calculate the optimal savingsrate with a fully funded pension system."
   ]
  },
  {
   "cell_type": "code",
   "execution_count": 14,
   "metadata": {},
   "outputs": [
    {
     "name": "stdout",
     "output_type": "stream",
     "text": [
      "Then when we substitute the budget constraints in we have:\n"
     ]
    },
    {
     "data": {
      "text/latex": [
       "$\\displaystyle w_{t} \\left(1 - s_{t}\\right) \\left(1 - \\tau\\right) = \\beta \\left(\\left(r_{t} + 1\\right) \\left(s_{t} + \\tau w_{t-1}\\right)\\right)^{- \\sigma} \\left(r_{t+1} + 1\\right)$"
      ],
      "text/plain": [
       "Eq(w_t*(1 - s_t)*(1 - tau), beta*(r_{t+1} + 1)/((r_t + 1)*(s_t + tau*w_{t-1}))**sigma)"
      ]
     },
     "metadata": {},
     "output_type": "display_data"
    },
    {
     "name": "stdout",
     "output_type": "stream",
     "text": [
      "When solving for s in the FF pension system we get:\n"
     ]
    },
    {
     "data": {
      "text/latex": [
       "$\\displaystyle s_{t} = \\frac{- \\beta^{\\frac{1}{\\sigma}} \\tau w_{t} \\left(r_{t+1} + 1\\right)^{\\frac{1}{\\sigma}} + \\beta^{\\frac{1}{\\sigma}} w_{t} \\left(r_{t+1} + 1\\right)^{\\frac{1}{\\sigma}} - r_{t} \\tau w_{t-1} - \\tau w_{t-1}}{- \\beta^{\\frac{1}{\\sigma}} \\tau w_{t} \\left(r_{t+1} + 1\\right)^{\\frac{1}{\\sigma}} + \\beta^{\\frac{1}{\\sigma}} w_{t} \\left(r_{t+1} + 1\\right)^{\\frac{1}{\\sigma}} + r_{t} + 1}$"
      ],
      "text/plain": [
       "Eq(s_t, (-beta**(1/sigma)*tau*w_t*(r_{t+1} + 1)**(1/sigma) + beta**(1/sigma)*w_t*(r_{t+1} + 1)**(1/sigma) - r_t*tau*w_{t-1} - tau*w_{t-1})/(-beta**(1/sigma)*tau*w_t*(r_{t+1} + 1)**(1/sigma) + beta**(1/sigma)*w_t*(r_{t+1} + 1)**(1/sigma) + r_t + 1))"
      ]
     },
     "execution_count": 14,
     "metadata": {},
     "output_type": "execute_result"
    }
   ],
   "source": [
    "# a. substitute in the budget constraints\n",
    "LHS = LHS.subs(C1,Cp1)\n",
    "RHS_FF = RHS.subs(C2,Cp2FF)\n",
    "util_subFF = sm.Eq(LHS, RHS_FF)\n",
    "\n",
    "print('Then when we substitute the budget constraints in we have:')\n",
    "display(util_subFF)\n",
    "\n",
    "# b. divide each side with '**(-1/sigma)' as the solver is unable to solve the equation otherwise\n",
    "LHS = w*(1-s)*(1-tau)\n",
    "RHS_FF = beta**(-1/sigma)*((1+r)*(s+tau*w_lag))*(1+r_lead)**(-1/sigma)\n",
    "\n",
    "# c. equation\n",
    "utilityFF_max = sm.Eq(LHS,RHS_FF)\n",
    "\n",
    "# d. solve for savingsrate\n",
    "savingsFF = sm.solve(utilityFF_max,s)\n",
    "savingsFFeq = sm.Eq(s,savingsFF[0])\n",
    "\n",
    "print('When solving for s in the FF pension system we get:')\n",
    "savingsFFeq # sympy is unable to simplify the equation"
   ]
  },
  {
   "cell_type": "markdown",
   "metadata": {},
   "source": [
    "Now we calculate the optimal savingsrate with a pay as you go pension system."
   ]
  },
  {
   "cell_type": "code",
   "execution_count": 15,
   "metadata": {},
   "outputs": [
    {
     "name": "stdout",
     "output_type": "stream",
     "text": [
      "Then when we substitute the budget constraints in we have:\n"
     ]
    },
    {
     "data": {
      "text/latex": [
       "$\\displaystyle w_{t} \\left(1 - s_{t}\\right) \\left(1 - \\tau\\right) = \\beta \\left(r_{t+1} + 1\\right) \\left(E_{t} \\tau w_{t} + s_{t} \\left(r_{t} + 1\\right)\\right)^{- \\sigma}$"
      ],
      "text/plain": [
       "Eq(w_t*(1 - s_t)*(1 - tau), beta*(r_{t+1} + 1)/(E_t*tau*w_t + s_t*(r_t + 1))**sigma)"
      ]
     },
     "metadata": {},
     "output_type": "display_data"
    },
    {
     "name": "stdout",
     "output_type": "stream",
     "text": [
      "When solving for s in the PAYG pension system we get:\n"
     ]
    },
    {
     "data": {
      "text/latex": [
       "$\\displaystyle s_{t} = \\frac{w_{t} \\left(- E_{t} \\tau - \\beta^{\\frac{1}{\\sigma}} \\tau \\left(r_{t+1} + 1\\right)^{\\frac{1}{\\sigma}} + \\beta^{\\frac{1}{\\sigma}} \\left(r_{t+1} + 1\\right)^{\\frac{1}{\\sigma}}\\right)}{- \\beta^{\\frac{1}{\\sigma}} \\tau w_{t} \\left(r_{t+1} + 1\\right)^{\\frac{1}{\\sigma}} + \\beta^{\\frac{1}{\\sigma}} w_{t} \\left(r_{t+1} + 1\\right)^{\\frac{1}{\\sigma}} + r_{t} + 1}$"
      ],
      "text/plain": [
       "Eq(s_t, w_t*(-E_t*tau - beta**(1/sigma)*tau*(r_{t+1} + 1)**(1/sigma) + beta**(1/sigma)*(r_{t+1} + 1)**(1/sigma))/(-beta**(1/sigma)*tau*w_t*(r_{t+1} + 1)**(1/sigma) + beta**(1/sigma)*w_t*(r_{t+1} + 1)**(1/sigma) + r_t + 1))"
      ]
     },
     "execution_count": 15,
     "metadata": {},
     "output_type": "execute_result"
    }
   ],
   "source": [
    "# a. substitue in the budget constraints\n",
    "LHS = LHS.subs(C1,Cp1) # LHS unchanged\n",
    "RHS_PAYG = RHS.subs(C2,Cp2PAYG)\n",
    "util_subPAYG = sm.Eq(LHS, RHS_PAYG)\n",
    "\n",
    "print('Then when we substitute the budget constraints in we have:')\n",
    "display(util_subPAYG)\n",
    "\n",
    "# b. divide each side with '**(-1/sigma)'\n",
    "LHS = w*(1-s)*(1-tau)\n",
    "RHS_PAYG = beta**(-1/sigma)*(1+r_lead)**(-1/sigma)*(E*tau*w+s*(1+r))\n",
    "\n",
    "# c. equation\n",
    "utilityPAYG_max = sm.Eq(LHS,RHS_PAYG)\n",
    "\n",
    "# d. solve for savingsrate\n",
    "savingsPAYG = sm.solve(utilityPAYG_max,s)\n",
    "savingsPAYGeq = sm.Eq(s,savingsPAYG[0])\n",
    "\n",
    "print('When solving for s in the PAYG pension system we get:')\n",
    "savingsPAYGeq # sympy is unable to simplify the equation"
   ]
  },
  {
   "cell_type": "markdown",
   "metadata": {},
   "source": [
    "## Numerical solution"
   ]
  },
  {
   "attachments": {},
   "cell_type": "markdown",
   "metadata": {},
   "source": [
    "Setup of model"
   ]
  },
  {
   "cell_type": "code",
   "execution_count": 6,
   "metadata": {},
   "outputs": [
    {
     "name": "stdout",
     "output_type": "stream",
     "text": [
      "initializing the model:\n",
      "calling .setup()\n",
      "calling .allocate()\n"
     ]
    }
   ],
   "source": [
    "model = OLGModelClass()\n",
    "par = model.par # SimpeNamespace\n",
    "sim = model.sim # SimpeNamespace\n",
    "\n",
    "# a. production\n",
    "par.production_function = 'cobb-douglas'\n",
    "par.theta = 0.0\n",
    "\n",
    "# c. government\n",
    "par.tau_w = 0.0\n",
    "par.tau_r = 0.0\n",
    "\n",
    "# d. initial values\n",
    "K_ss = ((1-par.alpha)/((1+1.0/par.beta)))**(1/(1-par.alpha))\n",
    "par.K_lag_ini = K_ss"
   ]
  },
  {
   "attachments": {},
   "cell_type": "markdown",
   "metadata": {},
   "source": [
    "First we simulate the baseline effect of a 1 period increase in labor."
   ]
  },
  {
   "cell_type": "code",
   "execution_count": 7,
   "metadata": {},
   "outputs": [
    {
     "name": "stdout",
     "output_type": "stream",
     "text": [
      "simulation done in 0.03 secs\n"
     ]
    },
    {
     "data": {
      "image/png": "[encoded data removed]",
      "text/plain": [
       "<Figure size 600x400 with 1 Axes>"
      ]
     },
     "metadata": {},
     "output_type": "display_data"
    }
   ],
   "source": [
    "# a. plotting figure\n",
    "fig = plt.figure(figsize=(6,6/1.5))\n",
    "ax = fig.add_subplot(1,1,1)\n",
    "\n",
    "# b. model without tax\n",
    "par.tau_w=0.0\n",
    "par.K_lag_ini = 0.172\n",
    "model.simulate(shock=True)\n",
    "baseline = model.sim\n",
    "ax.plot(baseline.K,label='No tax baseline')\n",
    "\n",
    "# c. specification of figure\n",
    "ax.legend(frameon=True)\n",
    "ax.set_title('Changes in capital stock from an increase in labor')\n",
    "plt.ylim([0.05, 0.3])\n",
    "plt.xlim([0,10])\n",
    "ax.set_xlabel('$Period_t$')\n",
    "ax.set_ylabel('$K_t$', rotation=0)\n",
    "fig.tight_layout()\n"
   ]
  },
  {
   "attachments": {},
   "cell_type": "markdown",
   "metadata": {},
   "source": [
    "Next we plot the effect of an increase in labor supply with a Fully Funded (FF) and Pay As You Go (PAYG) pension system, where the funding is an income tax."
   ]
  },
  {
   "cell_type": "code",
   "execution_count": 8,
   "metadata": {},
   "outputs": [
    {
     "name": "stdout",
     "output_type": "stream",
     "text": [
      "simulation done in 0.02 secs\n",
      "simulation done in 0.03 secs\n",
      "simulation done in 0.03 secs\n"
     ]
    },
    {
     "data": {
      "image/png": "[encoded data removed]",
      "text/plain": [
       "<Figure size 600x400 with 1 Axes>"
      ]
     },
     "metadata": {},
     "output_type": "display_data"
    }
   ],
   "source": [
    "# a. plotting figure\n",
    "fig = plt.figure(figsize=(6,6/1.5))\n",
    "ax = fig.add_subplot(1,1,1)\n",
    "\n",
    "# b. model without tax\n",
    "par.tau_w=0.0\n",
    "par.K_lag_ini = 0.172\n",
    "model.simulate(shock=True)\n",
    "baseline = model.sim\n",
    "ax.plot(baseline.K,label='No tax')\n",
    "\n",
    "# c. model with payg\n",
    "par.tau_w = 0.1\n",
    "par.K_lag_ini = 0.104\n",
    "model.simulate(shock=True,regime='PAYG')\n",
    "shockmodelPAYG = model.sim\n",
    "ax.plot(shockmodelPAYG.K,label='With tax (PAYG)')\n",
    "\n",
    "# d. model with ff\n",
    "par.tau_w = 0.1\n",
    "par.K_lag_ini = 0.093\n",
    "model.simulate(shock=True,regime='FF')\n",
    "shockmodelFF = model.sim\n",
    "ax.plot(shockmodelFF.K,label='With tax (FF)')\n",
    "\n",
    "# e. specification of figure\n",
    "ax.legend(frameon=True)\n",
    "ax.set_title('Capital stock under different pension systems')\n",
    "plt.ylim([0.05, 0.3])\n",
    "plt.xlim([0,10])\n",
    "ax.set_xlabel('$Period_t$')\n",
    "ax.set_ylabel('$K_t$', rotation=0)\n",
    "fig.tight_layout()\n"
   ]
  },
  {
   "attachments": {},
   "cell_type": "markdown",
   "metadata": {},
   "source": [
    "We can now plot utility with the different pension systems."
   ]
  },
  {
   "cell_type": "code",
   "execution_count": 9,
   "metadata": {},
   "outputs": [
    {
     "name": "stdout",
     "output_type": "stream",
     "text": [
      "simulation done in 0.03 secs\n",
      "simulation done in 0.03 secs\n",
      "simulation done in 0.03 secs\n"
     ]
    },
    {
     "data": {
      "image/png": "[encoded data removed]",
      "text/plain": [
       "<Figure size 600x400 with 1 Axes>"
      ]
     },
     "metadata": {},
     "output_type": "display_data"
    }
   ],
   "source": [
    "# a. plotting figure\n",
    "fig = plt.figure(figsize=(6,6/1.5))\n",
    "ax = fig.add_subplot(1,1,1)\n",
    "\n",
    "# b. model without tax\n",
    "par.tau_w=0.0\n",
    "par.K_lag_ini = 0.172\n",
    "model.simulate(shock=True)\n",
    "baseline = model.sim\n",
    "ax.plot(baseline.U,label='No tax')\n",
    "\n",
    "# c. model with payg\n",
    "par.tau_w = 0.1\n",
    "par.K_lag_ini = 0.104\n",
    "model.simulate(shock=True,regime='PAYG')\n",
    "shockmodelPAYG = model.sim\n",
    "ax.plot(shockmodelPAYG.U,label='With tax (PAYG)')\n",
    "\n",
    "# d. model with ff\n",
    "par.tau_w = 0.1\n",
    "par.K_lag_ini = 0.093\n",
    "model.simulate(shock=True,regime='FF')\n",
    "shockmodelFF = model.sim\n",
    "ax.plot(shockmodelFF.U,label='With tax (FF)')\n",
    "\n",
    "# e. specification of figure\n",
    "ax.legend(frameon=True)\n",
    "ax.set_title('Utility under different pension systems')\n",
    "plt.xlim([0,10])\n",
    "ax.set_xlabel('$Period_t$')\n",
    "ax.set_ylabel('$U_t$', rotation=0)\n",
    "fig.tight_layout()\n"
   ]
  },
  {
   "cell_type": "markdown",
   "metadata": {},
   "source": [
    "# Conclusion"
   ]
  },
  {
   "attachments": {},
   "cell_type": "markdown",
   "metadata": {},
   "source": [
    "We find a 1 period increase in labor supply does strictly better in the model without taxation than the other models. Further, PAYG does strictly better than FF. That the no tax model performs better can be explained by a higher savingsrate due to lower taxation whereby workers are more productive due to a higher level of capital. In terms of PAYG vs FF the advantage of the PAYG model stems from the fact that we have growth in employment. As such in the period with growth the young are able to consume more, as the pension payments of the future are larger, because they are taken from a new and larger young generation. We note, that our results aren't fully as they should be. In period 0, where the old and young generation are of equal size and constant, we should have, that our PAYG and FF models essentially should be equal. We have not been able to finde the source of the issue."
   ]
  }
 ],
 "metadata": {
  "kernelspec": {
   "display_name": "base",
   "language": "python",
   "name": "python3"
  },
  "language_info": {
   "codemirror_mode": {
    "name": "ipython",
    "version": 3
   },
   "file_extension": ".py",
   "mimetype": "text/x-python",
   "name": "python",
   "nbconvert_exporter": "python",
   "pygments_lexer": "ipython3",
   "version": "3.9.16"
  },
  "toc-autonumbering": true,
  "vscode": {
   "interpreter": {
    "hash": "47ef90cdf3004d3f859f1fb202523c65c07ba7c22eefd261b181f4744e2d0403"
   }
  }
 },
 "nbformat": 4,
 "nbformat_minor": 4
}
