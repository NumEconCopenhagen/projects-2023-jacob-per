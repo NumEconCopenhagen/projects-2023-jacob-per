{
 "cells": [
  {
   "cell_type": "markdown",
   "metadata": {},
   "source": [
    "# YOUR PROJECT TITLE"
   ]
  },
  {
   "attachments": {},
   "cell_type": "markdown",
   "metadata": {},
   "source": [
    "> **Note the following:** \n",
    "> 1. This is *not* meant to be an example of an actual **model analysis project**, just an example of how to structure such a project.\n",
    "> 1. Remember the general advice on structuring and commenting your code\n",
    "> 1. The `modelproject.py` file includes a function which could be used multiple times in this notebook."
   ]
  },
  {
   "cell_type": "markdown",
   "metadata": {},
   "source": [
    "Imports and set magics:"
   ]
  },
  {
   "cell_type": "code",
   "execution_count": 7,
   "metadata": {},
   "outputs": [
    {
     "name": "stdout",
     "output_type": "stream",
     "text": [
      "The autoreload extension is already loaded. To reload it, use:\n",
      "  %reload_ext autoreload\n"
     ]
    }
   ],
   "source": [
    "import numpy as np\n",
    "from scipy import optimize\n",
    "import sympy as sm\n",
    "import matplotlib.pyplot as plt\n",
    "\n",
    "# autoreload modules when code is run\n",
    "%load_ext autoreload\n",
    "%autoreload 2\n",
    "\n",
    "# local modules\n",
    "from OLGModel import OLGModelClass"
   ]
  },
  {
   "cell_type": "markdown",
   "metadata": {},
   "source": [
    "# Model description"
   ]
  },
  {
   "cell_type": "markdown",
   "metadata": {},
   "source": [
    "**Write out the model in equations here.** \n",
    "\n",
    "Make sure you explain well the purpose of the model and comment so that other students who may not have seen it before can follow.  "
   ]
  },
  {
   "attachments": {},
   "cell_type": "markdown",
   "metadata": {},
   "source": [
    "**Time:** Discrete and indexed by $t\\in\\{0,1,\\dots\\}$."
   ]
  },
  {
   "attachments": {},
   "cell_type": "markdown",
   "metadata": {},
   "source": [
    "**Demographics:** Population is constant. A life consists of\n",
    "two periods, *young* and *old*."
   ]
  },
  {
   "attachments": {},
   "cell_type": "markdown",
   "metadata": {},
   "source": [
    "**Households:** As young a household supplies labor exogenously, $L_{t}=1$, and earns a after tax wage $(1-\\tau_w)w_{t}$. Consumption as young and old\n",
    "are denoted by $C_{1t}$ and $C_{2t+1}$. The after-tax return on saving is $(1-\\tau_{r})r_{t+1}$. Utility is\n",
    "    \n",
    "$$\n",
    "\\begin{aligned}\n",
    "U & =\\max_{s_{t}\\in[0,1]}\\frac{C_{1t}^{1-\\sigma}}{1-\\sigma}+\\beta\\frac{C_{2t+1}^{1-\\sigma}}{1-\\sigma},\\,\\,\\,\\beta > -1, \\sigma > 0\\\\\n",
    " & \\text{s.t.}\\\\\n",
    " & S_{t}=s_{t}(1-\\tau_{w})w_{t}\n",
    "\\end{aligned}\n",
    "$$\n",
    "    \n",
    "The problem is formulated in terms of the saving rate $s_t\\in[0,1]$, with the taxrate $\\tau \\in [0,1]$."
   ]
  },
  {
   "attachments": {},
   "cell_type": "markdown",
   "metadata": {},
   "source": [
    "Fully Funded (FF):\n",
    "Government raises contributions from the young, invests these and pays them out with interes as benefits in the next period, giving the following budget constraints\n",
    "$$C_{1t}+s_t = w_t(1-\\tau)$$\n",
    "$$C_{2t+1} = (1+r_{t+1})(s_t+\\tau w_t)$$\n",
    "\n",
    "Pay As You Go (PAYG):\n",
    "Goverment raises contributions from current young, and pays them out as benefits to current old, giving the following budget constraints:\n",
    "$$C_{1t}+s_t=w_t(1-\\tau)$$\n",
    "$$C_{2t+1}=(1+r_{t+1})s_t+E_{t+1}\\tau w_{t+1}$$\n",
    "where $E_{t}$ is the laborforce."
   ]
  },
  {
   "attachments": {},
   "cell_type": "markdown",
   "metadata": {},
   "source": [
    "**Firms:** Firms rent capital $K_{t-1}$ at the rental rate $r_{t}^{K}$,\n",
    "and hires labor $E_{t}$ at the wage rate $w_{t}$. Firms have access\n",
    "to the production function\n",
    "    \n",
    "$$\n",
    "\\begin{aligned}\n",
    "Y_{t}=F(K_{t-1},E_{t})=(\\alpha K_{t-1}^{-\\theta}+(1-\\alpha)E_{t}^{-\\theta})^{\\frac{1}{-\\theta}},\\,\\,\\,\\theta>-1,\\alpha\\in(0,1)\n",
    "\\end{aligned}\n",
    "$$\n",
    "    \n",
    "Profits are\n",
    "    \n",
    "$$\n",
    "\\begin{aligned}\n",
    "\\Pi_{t}=Y_{t}-w_{t}E_{t}-r_{t}K_{t-1}\n",
    "\\end{aligned}\n",
    "$$"
   ]
  },
  {
   "attachments": {},
   "cell_type": "markdown",
   "metadata": {},
   "source": [
    "**Equilibrium:**\n",
    "\n",
    "1. Households maximize utility\n",
    "2. Firms maximize profits\n",
    "4. Labor market clears: $E_{t}=L_{t}$\n",
    "5. Goods market clears: $Y_{t}=C_{1t}+C_{2t}+S_{t}$\n",
    "6. Asset market clears: $S_{t}=K_{t}$\n",
    "7. Capital follows its law of motion: $K_{t}=(1-\\delta)K_{t-1}+S_{t}$\n",
    "\n",
    "**Capital:** Depreciates fully as the old spend their entire savings, such that $\\delta = 1$."
   ]
  },
  {
   "attachments": {},
   "cell_type": "markdown",
   "metadata": {},
   "source": [
    "**Implication of profit maximization:** From FOCs\n",
    "\n",
    "$$\n",
    "\\begin{aligned}\n",
    "r_{t} & =F_{K}(K_{t-1},E_{t})=\\alpha K_{t-1}^{-\\theta-1}Y_{t}^{1+\\theta}\\\\\n",
    "w_{t} & =F_{E}(K_{t-1},E_{t})=(1-\\alpha)E_{t}^{-\\theta-1}Y_{t}^{1+\\theta}\n",
    "\\end{aligned}\n",
    "$$\n",
    "\n",
    "**Implication of utility maximization:** From FOC\n",
    "\n",
    "$$\n",
    "\\begin{aligned}\n",
    "C_{1t}^{-\\sigma}=\\beta (1+r_{t+1})C_{2t+1}^{-\\sigma}\n",
    "\\end{aligned}\n",
    "$$\n",
    "\n"
   ]
  },
  {
   "attachments": {},
   "cell_type": "markdown",
   "metadata": {},
   "source": [
    "**Simulation algorithm:** At the beginning of period $t$, the\n",
    "economy can be summarized in the state variables $K_{t-1}$ and $B_{t-1}$.  *Before* $s_t$ is known, we can calculate:\n",
    "\n",
    "$$\n",
    "\\begin{aligned}\n",
    "Y_{t} & =F(K_{t-1},E_t)\\\\\n",
    "r_{t} & =F_{K}(K_{t-1},E_t)\\\\\n",
    "w_{t} & =F_{E}(K_{t-1},E_t)\\\\\n",
    "\\text{FF: }C_{2t} & =(1+r_{t})(K_{t-1}+\\tau w_{t-1})\\\\\n",
    "\\text{PAYG: }C_{2t} & =(1+r_{t})K_{t-1}+E_{t}\\tau w_{t}\\\\\n",
    "\n",
    "\\end{aligned}\n",
    "$$\n",
    "\n",
    "*After* $s_t$ is known we can calculate:\n",
    "\n",
    "$$\n",
    "\\begin{aligned}\n",
    "C_{1t} & = (1-\\tau)w_{t}-s_t\\\\\n",
    "I_{t} & =Y_{t}-C_{1t}-C_{2t}\\\\\n",
    "K_{t} & =(1-\\delta)K_{t-1} + I_t\n",
    "\\end{aligned}\n",
    "$$"
   ]
  },
  {
   "attachments": {},
   "cell_type": "markdown",
   "metadata": {},
   "source": [
    "**Solution algorithm:** Simulate forward choosing $s_{t}$ so\n",
    "that we always have\n",
    "\n",
    "$$\n",
    "\\begin{aligned}\n",
    "C_{1t}^{-\\sigma}=\\beta(1+r_{t+1})C_{2t+1}^{-\\sigma}\n",
    "\\end{aligned}\n",
    "$$"
   ]
  },
  {
   "cell_type": "markdown",
   "metadata": {},
   "source": [
    "## Analytical solution"
   ]
  },
  {
   "cell_type": "markdown",
   "metadata": {},
   "source": [
    "If your model allows for an analytical solution, you should provide here.\n",
    "\n",
    "You may use Sympy for this. Then you can characterize the solution as a function of a parameter of the model.\n",
    "\n",
    "To characterize the solution, first derive a steady state equation as a function of a parameter using Sympy.solve and then turn it into a python function by Sympy.lambdify. See the lecture notes for details. "
   ]
  },
  {
   "cell_type": "markdown",
   "metadata": {},
   "source": [
    "## Numerical solution"
   ]
  },
  {
   "attachments": {},
   "cell_type": "markdown",
   "metadata": {},
   "source": [
    "Setup of model"
   ]
  },
  {
   "cell_type": "code",
   "execution_count": 8,
   "metadata": {},
   "outputs": [
    {
     "name": "stdout",
     "output_type": "stream",
     "text": [
      "initializing the model:\n",
      "calling .setup()\n",
      "calling .allocate()\n"
     ]
    }
   ],
   "source": [
    "model = OLGModelClass()\n",
    "par = model.par # SimpeNamespace\n",
    "sim = model.sim # SimpeNamespace\n",
    "\n",
    "# d. initial values\n",
    "K_ss = ((1-par.alpha)/((1+1.0/par.beta)))**(1/(1-par.alpha))\n",
    "par.K_lag_ini = K_ss"
   ]
  },
  {
   "attachments": {},
   "cell_type": "markdown",
   "metadata": {},
   "source": [
    "Run model with and without shock to amount of labor"
   ]
  },
  {
   "cell_type": "code",
   "execution_count": 9,
   "metadata": {},
   "outputs": [
    {
     "ename": "TypeError",
     "evalue": "cannot unpack non-iterable NoneType object",
     "output_type": "error",
     "traceback": [
      "\u001b[1;31m---------------------------------------------------------------------------\u001b[0m",
      "\u001b[1;31mTypeError\u001b[0m                                 Traceback (most recent call last)",
      "\u001b[1;32m~\\AppData\\Local\\Temp\\ipykernel_12892\\948186588.py\u001b[0m in \u001b[0;36m<module>\u001b[1;34m\u001b[0m\n\u001b[0;32m      5\u001b[0m \u001b[1;31m# baseline = model.sim\u001b[0m\u001b[1;33m\u001b[0m\u001b[1;33m\u001b[0m\u001b[0m\n\u001b[0;32m      6\u001b[0m \u001b[1;31m# ax.plot(baseline.K,label='baseline K')\u001b[0m\u001b[1;33m\u001b[0m\u001b[1;33m\u001b[0m\u001b[0m\n\u001b[1;32m----> 7\u001b[1;33m \u001b[0mmodel\u001b[0m\u001b[1;33m.\u001b[0m\u001b[0msimulate\u001b[0m\u001b[1;33m(\u001b[0m\u001b[0mshock\u001b[0m\u001b[1;33m=\u001b[0m\u001b[1;32mTrue\u001b[0m\u001b[1;33m,\u001b[0m \u001b[0mPAYG\u001b[0m\u001b[1;33m=\u001b[0m\u001b[1;32mTrue\u001b[0m\u001b[1;33m)\u001b[0m\u001b[1;33m\u001b[0m\u001b[1;33m\u001b[0m\u001b[0m\n\u001b[0m\u001b[0;32m      8\u001b[0m \u001b[0mshockmodel\u001b[0m \u001b[1;33m=\u001b[0m \u001b[0mmodel\u001b[0m\u001b[1;33m.\u001b[0m\u001b[0msim\u001b[0m\u001b[1;33m\u001b[0m\u001b[1;33m\u001b[0m\u001b[0m\n\u001b[0;32m      9\u001b[0m \u001b[1;33m\u001b[0m\u001b[0m\n",
      "\u001b[1;32mc:\\Users\\jacob\\OneDrive\\Københavns Universitet\\6. Semester\\Introduction to programming and numerical analysis\\laptop\\projects-2023-jacob-per\\modelproject\\OLGModel.py\u001b[0m in \u001b[0;36msimulate\u001b[1;34m(self, do_print, shock, PAYG)\u001b[0m\n\u001b[0;32m     81\u001b[0m \u001b[1;33m\u001b[0m\u001b[0m\n\u001b[0;32m     82\u001b[0m             \u001b[1;31m# i. find bracket to search\u001b[0m\u001b[1;33m\u001b[0m\u001b[1;33m\u001b[0m\u001b[0m\n\u001b[1;32m---> 83\u001b[1;33m             \u001b[0ms_min\u001b[0m\u001b[1;33m,\u001b[0m\u001b[0ms_max\u001b[0m \u001b[1;33m=\u001b[0m \u001b[0mfind_s_bracket\u001b[0m\u001b[1;33m(\u001b[0m\u001b[0mpar\u001b[0m\u001b[1;33m,\u001b[0m\u001b[0msim\u001b[0m\u001b[1;33m,\u001b[0m\u001b[0mt\u001b[0m\u001b[1;33m)\u001b[0m\u001b[1;33m\u001b[0m\u001b[1;33m\u001b[0m\u001b[0m\n\u001b[0m\u001b[0;32m     84\u001b[0m \u001b[1;33m\u001b[0m\u001b[0m\n\u001b[0;32m     85\u001b[0m             \u001b[1;31m# ii. find optimal s\u001b[0m\u001b[1;33m\u001b[0m\u001b[1;33m\u001b[0m\u001b[0m\n",
      "\u001b[1;31mTypeError\u001b[0m: cannot unpack non-iterable NoneType object"
     ]
    },
    {
     "data": {
      "image/png": "[encoded data removed]",
      "text/plain": [
       "<Figure size 600x400 with 1 Axes>"
      ]
     },
     "metadata": {},
     "output_type": "display_data"
    }
   ],
   "source": [
    "fig = plt.figure(figsize=(6,6/1.5))\n",
    "ax = fig.add_subplot(1,1,1)\n",
    "\n",
    "# model.simulate(shock=False, PAYG=False) # no shock\n",
    "# baseline = model.sim\n",
    "# ax.plot(baseline.K,label='baseline K')\n",
    "model.simulate(shock=True, PAYG=True)\n",
    "shockmodel = model.sim\n",
    "\n",
    "ax.plot(shockmodel.K,label='model with shock')\n",
    "ax.legend(frameon=True)\n",
    "plt.ylim([0.15, 0.25])\n",
    "plt.xlim([0,10])\n",
    "fig.tight_layout()\n",
    "\n",
    "\n"
   ]
  },
  {
   "cell_type": "code",
   "execution_count": null,
   "metadata": {},
   "outputs": [],
   "source": [
    "print(locals())"
   ]
  },
  {
   "cell_type": "markdown",
   "metadata": {},
   "source": [
    "You can always solve a model numerically. \n",
    "\n",
    "Define first the set of parameters you need. \n",
    "\n",
    "Then choose one of the optimization algorithms that we have gone through in the lectures based on what you think is most fitting for your model.\n",
    "\n",
    "Are there any problems with convergence? Does the model converge for all starting values? Make a lot of testing to figure these things out. "
   ]
  },
  {
   "cell_type": "markdown",
   "metadata": {},
   "source": [
    "# Further analysis"
   ]
  },
  {
   "cell_type": "markdown",
   "metadata": {},
   "source": [
    "Make detailed vizualizations of how your model changes with parameter values. \n",
    "\n",
    "Try to make an extension of the model. "
   ]
  },
  {
   "cell_type": "markdown",
   "metadata": {},
   "source": [
    "# Conclusion"
   ]
  },
  {
   "cell_type": "markdown",
   "metadata": {},
   "source": [
    "Add concise conclusion. "
   ]
  }
 ],
 "metadata": {
  "kernelspec": {
   "display_name": "base",
   "language": "python",
   "name": "python3"
  },
  "language_info": {
   "codemirror_mode": {
    "name": "ipython",
    "version": 3
   },
   "file_extension": ".py",
   "mimetype": "text/x-python",
   "name": "python",
   "nbconvert_exporter": "python",
   "pygments_lexer": "ipython3",
   "version": "3.9.16"
  },
  "toc-autonumbering": true,
  "vscode": {
   "interpreter": {
    "hash": "47ef90cdf3004d3f859f1fb202523c65c07ba7c22eefd261b181f4744e2d0403"
   }
  }
 },
 "nbformat": 4,
 "nbformat_minor": 4
}
