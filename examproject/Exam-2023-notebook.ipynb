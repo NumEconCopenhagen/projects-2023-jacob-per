{
 "cells": [
  {
   "attachments": {},
   "cell_type": "markdown",
   "metadata": {},
   "source": [
    "**Table of contents**<a id='toc0_'></a>    \n",
    "- 1. [Problem 1: Optimal taxation with government consumption](#toc1_)    \n",
    "- 2. [Problem 2: Labor adjustment costs](#toc2_)    \n",
    "- 3. [Problem 3: Global optimizer with refined multi-start](#toc3_)    \n",
    "\n",
    "<!-- vscode-jupyter-toc-config\n",
    "\tnumbering=true\n",
    "\tanchor=true\n",
    "\tflat=false\n",
    "\tminLevel=2\n",
    "\tmaxLevel=6\n",
    "\t/vscode-jupyter-toc-config -->\n",
    "<!-- THIS CELL WILL BE REPLACED ON TOC UPDATE. DO NOT WRITE YOUR TEXT IN THIS CELL -->"
   ]
  },
  {
   "cell_type": "code",
   "execution_count": null,
   "metadata": {},
   "outputs": [],
   "source": [
    "import numpy as np\n",
    "from scipy import optimize\n",
    "import sympy as sm\n",
    "import matplotlib.pyplot as plt\n",
    "\n",
    "# autoreload modules when code is run\n",
    "%load_ext autoreload\n",
    "%autoreload 2"
   ]
  },
  {
   "attachments": {},
   "cell_type": "markdown",
   "metadata": {},
   "source": [
    "## 1. <a id='toc1_'></a>[Problem 1: Optimal taxation with government consumption](#toc0_)"
   ]
  },
  {
   "attachments": {},
   "cell_type": "markdown",
   "metadata": {},
   "source": [
    "\n",
    "Consider a worker choosing hours of labor, $L\\in[0,24]$, to maximize utility: \n",
    "\n",
    "$$\n",
    "\\begin{align*}\n",
    "V(w,\\tau,G)&=\\max_{L\\in[0,24]}\\ln\\left(C^{\\alpha}G^{1-\\alpha}\\right)-\\nu\\frac{L^{2}}{2}\\\\&\\text{s.t.}\\\\&C=\\kappa+(1-\\tau)wL\n",
    "\\end{align*}\n",
    "$$\n",
    "\n",
    "where \n",
    "\n",
    "* $C$ is *private* consumption with weight $\\alpha\\in(0,1)$.\n",
    "* $\\kappa > 0$ is the *free private* consumption component.\n",
    "* $(1-\\tau)wL$ is the *costly private* consumption component.\n",
    "* $w > 0 $ is the real wage.\n",
    "* $\\tau \\in (0,1)$ is the labor-income tax rate.\n",
    "* $G > 0 $ is *government* consumption with weight $1-\\alpha$.\n",
    "* $\\nu > 0$ is the disutility of labor scaling factor"
   ]
  },
  {
   "attachments": {},
   "cell_type": "markdown",
   "metadata": {},
   "source": [
    "\n",
    "The baseline parameters are:\n",
    "\n",
    "$$\n",
    "\\begin{align*}\n",
    "\\alpha &= 0.5\\\\\n",
    "\\kappa &= 1.0\\\\\n",
    "\\nu &= \\frac{1}{2\\cdot16^2} \\\\\n",
    "w &= 1.0 \\\\ \n",
    "\\tau &= 0.30 \\\\\n",
    "\\end{align*}\n",
    "$$"
   ]
  },
  {
   "attachments": {},
   "cell_type": "markdown",
   "metadata": {},
   "source": [
    "**Question 1:** Verify that the optimal labor supply choice is $L^{\\star}(\\tilde{w}) =\\frac{-\\kappa+\\sqrt{\\kappa^{2}+4\\frac{\\alpha}{\\nu}\\tilde{w}^2}}{2\\tilde{w}}$, where $\\tilde{w} = (1-\\tau)w$, for $G\\in\\left\\{1.0 , 2.0\\right\\}$."
   ]
  },
  {
   "cell_type": "code",
   "execution_count": null,
   "metadata": {},
   "outputs": [],
   "source": [
    "# a. define  as sympy symbols\n",
    "alpha = sm.symbols('alpha')\n",
    "kappa = sm.symbols('kappa')\n",
    "nu = sm.symbols('nu')\n",
    "w = sm.symbols('w')\n",
    "tau = sm.symbols('tau')\n",
    "C = sm.symbols('C')\n",
    "G = sm.symbols('G')\n",
    "L = sm.symbols('L')\n",
    "wt = sm.symbols('wtilde')\n",
    "\n",
    "# b. define utility and budget constraint\n",
    "utility = sm.log(C**alpha*G**(1-alpha))-nu*(L**2/2)\n",
    "budget_constraint = sm.Eq(kappa+wt*L,C)\n",
    "budget_constraint_C = sm.solve(budget_constraint, C)\n",
    "\n",
    "# c. substitute into utility and take derivative\n",
    "utility_subs = utility.subs(C, budget_constraint_C[0])\n",
    "foc = sm.diff(utility_subs, L)\n",
    "\n",
    "# d. solve the FOC\n",
    "sol = sm.solve(sm.Eq(foc,0), L)\n",
    "sol_L = sol[1]\n",
    "\n",
    "# e. difference to given solution\n",
    "L_star = (-kappa+sm.sqrt(kappa**2+4*(alpha/nu)*wt**2))/(2*wt)\n",
    "sol_func = sm.lambdify(args=(kappa,alpha,nu,wt),expr=L_star)\n",
    "diff_L = sol_L-L_star\n",
    "\n",
    "# f. compute numeric difference\n",
    "diff_func = sm.lambdify(args=(kappa,alpha,nu,wt),expr=diff_L)\n",
    "num_diff = diff_func(1.0,0.5,1/(2*16**2),(1-0.3)*1.0)\n",
    "print(f'The difference between the given solution and the optimal solution we have found is: {num_diff:1.3f}')\n",
    "print('Thus the given solution is the optimal choice')\n"
   ]
  },
  {
   "attachments": {},
   "cell_type": "markdown",
   "metadata": {},
   "source": [
    "**Question 2:** Illustrate how $L^{\\star}(\\tilde{w})$ depends on $w$."
   ]
  },
  {
   "cell_type": "code",
   "execution_count": null,
   "metadata": {},
   "outputs": [],
   "source": [
    "# a. create vectors for plot values\n",
    "N = 100 # number of points to calculate\n",
    "lower = 1e-8 # lower bound of w\n",
    "upper = 2 # upper bound of w\n",
    "w_vec = np.linspace(lower, upper, N)\n",
    "L_vec = np.zeros(N)\n",
    "\n",
    "# b. create function and set parameters\n",
    "kappa = 1.0\n",
    "alpha = 0.5\n",
    "nu = 1/(2*16**2)\n",
    "tau = 0.3\n",
    "\n",
    "# c. calculate values\n",
    "for i, w in enumerate(w_vec):\n",
    "    wt = (1-tau)*w\n",
    "    L_vec[i] = sol_func(kappa,alpha,nu,wt)\n",
    "\n",
    "# d. plot figure\n",
    "fig = plt.figure()\n",
    "ax = fig.add_subplot(1,1,1)\n",
    "ax.plot(w_vec,L_vec)\n",
    "\n",
    "# e. labels and format\n",
    "ax.set_xlabel('$w$') \n",
    "ax.set_ylabel(r'$L^{*}(\\tilde{w})$')\n",
    "plt.title('Optimal hours to work for given wage') \n",
    "fig.tight_layout()\n"
   ]
  },
  {
   "attachments": {},
   "cell_type": "markdown",
   "metadata": {},
   "source": [
    "\n",
    "We now consider a government, who chooses $\\tau$ and spend all of the taxes on government consumption so:\n",
    "\n",
    "$$\n",
    "G = \\tau w L^{\\star}((1-\\tau)w)\n",
    "$$\n",
    "\n",
    "**Question 3:** Plot the implied $L$, $G$ and worker utility for a grid of $\\tau$-values.\n"
   ]
  },
  {
   "cell_type": "code",
   "execution_count": null,
   "metadata": {},
   "outputs": [],
   "source": [
    "# a. create vectors for plot values\n",
    "N = 100 # number of points to calculate\n",
    "lower = 1e-2 # lower bound of tau\n",
    "upper = 1.0-lower # upper bound of tau\n",
    "tau_vec = np.linspace(lower, upper, N)\n",
    "L_tau_vec = np.zeros(N)\n",
    "G_tau_vec = np.zeros(N)\n",
    "util_tau_vec = np.zeros(N)\n",
    "\n",
    "# b. set parameters\n",
    "kappa = 1.0\n",
    "alpha = 0.5\n",
    "nu = 1/(2*16**2)\n",
    "w = 1.0\n",
    "\n",
    "# c. calculate values\n",
    "for i, tau in enumerate(tau_vec):\n",
    "    tau = tau\n",
    "    wt = (1-tau)*w\n",
    "    L_tau_vec[i] = sol_func(kappa,alpha,nu,wt)\n",
    "    G_tau_vec[i] = tau*w*L_tau_vec[i]\n",
    "    util_tau_vec[i] = np.log((kappa+(1-tau)*w*L_tau_vec[i])**alpha*G_tau_vec[i]**(1-alpha))-nu*(L_tau_vec[i]**2/2)\n",
    "\n",
    "# d. plot figures\n",
    "fig = plt.figure(figsize=(12,4))\n",
    "ax = fig.add_subplot(1,3,1)\n",
    "ax.plot(tau_vec,L_tau_vec)\n",
    "ax.set_xlabel(r'$\\tau$') \n",
    "ax.set_ylabel(r'$L^{*}(\\tilde{w})$')\n",
    "plt.title('Optimal hours to work for given taxrate') \n",
    "ax = fig.add_subplot(1,3,2)\n",
    "ax.plot(tau_vec,G_tau_vec)\n",
    "ax.set_xlabel(r'$\\tau$') \n",
    "ax.set_ylabel('$G$')\n",
    "plt.title('Government consumption at given taxrate')\n",
    "ax = fig.add_subplot(1,3,3)\n",
    "ax.plot(tau_vec,util_tau_vec)\n",
    "ax.set_xlabel(r'$\\tau$') \n",
    "ax.set_ylabel(r'$V(w,\\tau,G)$')\n",
    "plt.title('Worker utility at given taxrate')\n",
    "fig.tight_layout() "
   ]
  },
  {
   "attachments": {},
   "cell_type": "markdown",
   "metadata": {},
   "source": [
    "**Question 4:** Find the socially optimal tax rate $\\tau^{\\star}\\in(0,1)$ maximizing worker utility. Illustrate your result."
   ]
  },
  {
   "cell_type": "code",
   "execution_count": null,
   "metadata": {},
   "outputs": [],
   "source": [
    "# a. set parameters\n",
    "kappa = 1.0\n",
    "alpha = 0.5\n",
    "nu = 1/(2*16**2)\n",
    "w = 1.0\n",
    "lower = 1e-2 # lower bound of tau\n",
    "upper = 1.0-lower # upper bound of tau\n",
    "tau_0 = 0.5 # initial guess\n",
    "\n",
    "# b. define negative utility dependant on tau\n",
    "def negative_utility(tau):\n",
    "    if tau>upper:\n",
    "        neg_util=1\n",
    "    elif tau<lower:\n",
    "        neg_util=1\n",
    "    else:\n",
    "        wt = (1-tau)*w\n",
    "        L = (-kappa+np.sqrt(kappa**2+4*(alpha/nu)*wt**2))/(2*wt)\n",
    "        C = kappa + (1-tau)*w*L\n",
    "        G = tau*w*L\n",
    "        neg_util = -(np.log(C**alpha*G**(1-alpha))-nu*(L**2/2))\n",
    "    return neg_util\n",
    "\n",
    "# c. minimize negative utility\n",
    "solution = optimize.minimize(negative_utility, tau_0, method='Nelder-Mead')\n",
    "print(f'The socially optimal taxrate maximizing worker utility is: {solution.x[0]:1.3f}')\n",
    "print(f'At this taxrate the worker utility is then: {-solution.fun:1.3f}')\n",
    "\n",
    "# d. plot of worker utility focused around optimal taxrate\n",
    "N = 100 # number of points to calculate\n",
    "lower = 0.50 # lower bound of tau\n",
    "upper = 0.53 # upper bound of tau\n",
    "tau_opt_vec = np.linspace(lower, upper, N)\n",
    "L_opt_vec = np.zeros(N)\n",
    "G_opt_vec = np.zeros(N)\n",
    "util_opt_vec = np.zeros(N)\n",
    "for i, tau in enumerate(tau_opt_vec):\n",
    "    tau = tau\n",
    "    wt = (1-tau)*w\n",
    "    L_opt_vec[i] = sol_func(kappa,alpha,nu,wt)\n",
    "    G_opt_vec[i] = tau*w*L_opt_vec[i]\n",
    "    util_opt_vec[i] = np.log((kappa+(1-tau)*w*L_opt_vec[i])**alpha*G_opt_vec[i]**(1-alpha))-nu*(L_opt_vec[i]**2/2)\n",
    "fig = plt.figure()\n",
    "ax = fig.add_subplot(1,1,1)\n",
    "ax.plot(tau_opt_vec,util_opt_vec)\n",
    "ax.scatter(solution.x[0],-solution.fun, c='red', s=30)\n",
    "ax.set_xlabel(r'$\\tau$') \n",
    "ax.set_ylabel(r'$V(w,\\tau,G)$')\n",
    "plt.title('Worker utility around optimal taxrate')\n",
    "fig.tight_layout() "
   ]
  },
  {
   "attachments": {},
   "cell_type": "markdown",
   "metadata": {},
   "source": [
    "A more general preference formulation for the worker is:\n",
    "\n",
    "$$\n",
    "\\begin{align*}\n",
    "\\mathcal{V}(w,\\tau,G)&=\\max_{L\\in[0,24]}\\frac{\\left[ \\left( \\alpha C^{\\frac{\\sigma-1}{\\sigma}}+(1-\\alpha) G^{\\frac{\\sigma-1}{\\sigma}} \\right)^{\\frac{\\sigma}{\\sigma-1} }\\right]^{1-\\rho}-1}{1-\\rho}- \\nu\\frac{L^{1+\\varepsilon}}{1+\\varepsilon},\\,\\,\\,\\varepsilon,\\rho,\\sigma>0,\\,\\,\\,\\rho,\\sigma\\neq1\\\\&\\text{s.t.}\\\\&C=\\kappa+(1-\\tau)wL\n",
    "\\end{align*}    \n",
    "$$\n",
    "\n",
    "Optimal labor supply is now $L^{\\star}(\\tilde{w},G)$."
   ]
  },
  {
   "attachments": {},
   "cell_type": "markdown",
   "metadata": {},
   "source": [
    "Questions 5 and 6 must be answered with the general formulation, and for 2 different set of parameters:\n",
    "\n",
    "- Set 1:  $\\sigma = 1.001$, $\\rho = 1.001$ and $\\varepsilon = 1.0$.\n",
    "- Set 2:  $\\sigma = 1.5$, $\\rho = 1.5$ and $\\varepsilon = 1.0 $."
   ]
  },
  {
   "attachments": {},
   "cell_type": "markdown",
   "metadata": {},
   "source": [
    "**Question 5:** Find the $G$ that solves $G = \\tau w L^{\\star}((1-\\tau)w,G)$ using the $\\tau$ found in question 4.\n",
    "\n",
    "*Hint: First write code that solves the worker problem for given values of $G$ and $\\tau$. Then find the correct G based on this.*"
   ]
  },
  {
   "cell_type": "code",
   "execution_count": null,
   "metadata": {},
   "outputs": [],
   "source": [
    "# a. set parameters\n",
    "sigma = 1.001  # set 1 value\n",
    "rho = 1.01  # set 1 value\n",
    "epsilon = 1.0\n",
    "L_0 = 15  # initial guess\n",
    "\n",
    "# b. define utility for given values of G and tau\n",
    "def general_util_neg(L):\n",
    "    C = kappa+(1-tau)*w*L\n",
    "    G = tau*w*L\n",
    "    util = -((((alpha*C**((sigma-1)/sigma)+(1-alpha)*G**((sigma-1)/sigma)) **\n",
    "            (sigma/(sigma-1)))**(1-rho)-1)/(1-rho)-nu*(L**(1+epsilon)/(1+epsilon)))\n",
    "    return util\n",
    "\n",
    "# c. optimize given values of G and tau\n",
    "tau = 0.5\n",
    "sol_gvalues = optimize.minimize(general_util_neg, L_0, method='Nelder-Mead')\n",
    "\n",
    "# d. optimize given tau from question 4 and set 1 parameters\n",
    "tau = solution.x[0]\n",
    "sol_gtau_set1 = optimize.minimize(general_util_neg, L_0, method='Nelder-Mead')\n",
    "G_set1 = tau*w*sol_gtau_set1.x[0]\n",
    "\n",
    "# e. optimize given tau from question 4 and set 2 parameters\n",
    "sigma = 1.5  # set 2 value\n",
    "rho = 1.5  # set 2 value\n",
    "tau = solution.x[0]\n",
    "sol_gtau_set2 = optimize.minimize(general_util_neg, L_0, method='Nelder-Mead')\n",
    "G_set2 = tau*w*sol_gtau_set2.x[0]\n",
    "\n",
    "# f. print results\n",
    "print(f'Given set 1 parameters and tau from question 4 we have the optimal L: {sol_gtau_set1.x[0]:1.3f} and thus G is then: {G_set1:1.3f}')\n",
    "print(f'Then when parameters are equal to set 2 values we have optimal L: {sol_gtau_set2.x[0]:1.3f} with G equal to: {G_set2:1.3f}')\n"
   ]
  },
  {
   "attachments": {},
   "cell_type": "markdown",
   "metadata": {},
   "source": [
    "**Question 6:** Find the socially optimal tax rate, $\\tau^{\\star}$, maximizing worker utility, while keeping $G = \\tau w L^{\\star}((1-\\tau)w,G)$."
   ]
  },
  {
   "cell_type": "code",
   "execution_count": null,
   "metadata": {},
   "outputs": [],
   "source": [
    "# a. define negative utility where tau and L can be adjusted\n",
    "def neg_gen_ut(x):\n",
    "    L, tau = x.ravel()\n",
    "    C = kappa+(1-tau)*w*L\n",
    "    G = tau*w*L\n",
    "    util = -((((alpha*C**((sigma-1)/sigma)+(1-alpha)*G**((sigma-1)/sigma)) **\n",
    "            (sigma/(sigma-1)))**(1-rho)-1)/(1-rho)-nu*(L**(1+epsilon)/(1+epsilon)))\n",
    "    return util\n",
    "\n",
    "# b. find optimal taxrate for set 1 parameters\n",
    "sigma = 1.001  # set 1 value\n",
    "rho = 1.01  # set 1 value\n",
    "epsilon = 1.0\n",
    "t_0 = 0.5  # initial guess\n",
    "L_0 = 13 # initial guess\n",
    "sol_set1 = optimize.minimize(neg_gen_ut, [L_0, tau_0], method='Nelder-Mead')\n",
    "\n",
    "# c. find optimal taxrate for set 2 parameters\n",
    "sigma = 1.5  # set 1 value\n",
    "rho = 1.5  # set 1 value\n",
    "t_0 = 0.5  # initial guess\n",
    "L_0 = 13 # initial guess\n",
    "sol_set2 = optimize.minimize(neg_gen_ut, [L_0, tau_0], method='Nelder-Mead')\n",
    "\n",
    "# d. print solutions\n",
    "print(f'Given set 1 parameter values the socially optimal taxrate is: {sol_set1.x[1]:1.3f} where the workers utility is {-sol_set1.fun:1.3f} and hours worked is {sol_set1.x[0]:1.3f}')\n",
    "print(f'Then when given set 2 parameter values the socially optimal taxrate is: {sol_set2.x[1]:1.3f} where the workers utility is {-sol_set2.fun:1.3f} and hours worked is {sol_set2.x[0]:1.3f}')\n",
    "\n"
   ]
  },
  {
   "attachments": {},
   "cell_type": "markdown",
   "metadata": {},
   "source": [
    "## 2. <a id='toc2_'></a>[Problem 2: Labor adjustment costs](#toc0_)"
   ]
  },
  {
   "attachments": {},
   "cell_type": "markdown",
   "metadata": {},
   "source": [
    "You own a hair salon. You employ hairdressers, $\\ell_t$, to produce haircuts, $y_t = \\ell_t$.\n",
    "\n",
    "The wage for each haridresser is $w$.\n",
    "\n",
    "The demand for haircuts implies that the price of haircuts you can charge is $p_t = \\kappa_t y_t^{-\\eta}$, where $\\kappa_t$ is a demand-shock and $\\eta \\in (0,1)$ measures the elasticity of demand.\n",
    "\n",
    "Profits are:\n",
    "\n",
    "$$\n",
    "\\Pi_t = p_t y_t - w \\ell_t = \\kappa_t \\ell_t^{1-\\eta} - w \\ell_t\n",
    "$$"
   ]
  },
  {
   "attachments": {},
   "cell_type": "markdown",
   "metadata": {},
   "source": [
    "Baseline parameters are:\n",
    "- $\\eta = 0.5$\n",
    "- $w = 1.0$"
   ]
  },
  {
   "attachments": {},
   "cell_type": "markdown",
   "metadata": {},
   "source": [
    "**Question 1:** Verify numerically that $\\ell_{t}=\\left(\\frac{(1-\\eta)\\kappa_{t}}{w}\\right)^{\\frac{1}{\\eta}}$ maximises profits, for $\\kappa\\in\\left\\{1.0 , 2.0\\right\\}$."
   ]
  },
  {
   "cell_type": "code",
   "execution_count": null,
   "metadata": {},
   "outputs": [],
   "source": [
    "# write your code here"
   ]
  },
  {
   "attachments": {},
   "cell_type": "markdown",
   "metadata": {},
   "source": [
    "We now consider a *dynamic* version of the model.\n",
    "\n",
    "* The demand-shock is a so-called AR(1) in logs, \n",
    "\n",
    "$$\n",
    "\\log \\kappa_{t} = \\rho \\log \\kappa_{t-1} + \\epsilon_{t},\\,\\,\\, \\epsilon_{t+1} \\sim \\mathcal{N}(-0.5\\sigma_{\\epsilon}^2,\\sigma_{\\epsilon})\n",
    "$$\n",
    "\n",
    "* Any hiring or firing implies a fixed adjustment cost, $\\iota > 0 $.\n",
    "* Future profits are discounted with a monthly factor of $R \\in (0,1)$.\n",
    "\n",
    "The initial demand shock is $\\kappa_{-1} = 1$ and the planning horizon is 10 years, i.e. 120 months so $t \\in \\{0,1,2,\\dots,119\\}$. Initially you don't have any employees, $\\ell_{-1}=0$"
   ]
  },
  {
   "attachments": {},
   "cell_type": "markdown",
   "metadata": {},
   "source": [
    "\n",
    "The *ex post* value of the salon is *conditional* on the shock series is:\n",
    "\n",
    "$$\n",
    "h(\\epsilon_0,\\epsilon_1,\\dots,\\epsilon_{119}) = \\left[\\sum_{t=0}^{119}R^{-t}\\left[\\kappa_{t}\\ell_{t}^{1-\\eta}-w\\ell_{t}-\\boldsymbol{1}_{\\ell_{t}\\neq\\ell_{t-1}}\\iota\\right]\\right]\n",
    "$$\n",
    "\n",
    "The *ex ante* expected value of the salon can be approximated by\n",
    "\n",
    "$$\n",
    "H = \\mathbb{E}[h(\\epsilon_0,\\epsilon_1,\\dots,\\epsilon_{119})] \\approx \\frac{1}{K}\\sum_{k=0}^{K} h(\\epsilon_0^k,\\epsilon_1^k,\\dots,\\epsilon_{119}^k)\n",
    "$$\n",
    "\n",
    "where each $k\\in\\{0,1,\\dots,K-1\\}$ is a random shock series. Maximizing profitability means maximizing $H$.\n"
   ]
  },
  {
   "attachments": {},
   "cell_type": "markdown",
   "metadata": {},
   "source": [
    "Baseline parameters are: \n",
    "\n",
    "- $\\rho = 0.90$\n",
    "- $\\iota = 0.01$\n",
    "- $\\sigma_{\\epsilon} = 0.10$\n",
    "- $R = \\left(1+0.01\\right)^{1/12}$"
   ]
  },
  {
   "attachments": {},
   "cell_type": "markdown",
   "metadata": {},
   "source": [
    "**Question 2:** Calculate $H$ if the policy  $\\ell_{t}=\\left(\\frac{(1-\\eta)\\kappa_{t}}{w}\\right)^{\\frac{1}{\\eta}}$ from question 1 is followed. Choose $K$ so the approximation is good enough to not affect your results substantially."
   ]
  },
  {
   "cell_type": "code",
   "execution_count": null,
   "metadata": {},
   "outputs": [],
   "source": [
    "# write your code here "
   ]
  },
  {
   "attachments": {},
   "cell_type": "markdown",
   "metadata": {},
   "source": [
    "Next, we consider policies on the form:\n",
    "\n",
    "$$\n",
    "\n",
    "\\ell_{t}=\\begin{cases}\n",
    "\\ell_t^{\\ast}  & \\text{if }\\left|\\ell_{t-1}-\\ell_t^{\\ast} \\right|>\\Delta\\\\\n",
    "\\ell_{t-1} & \\text{else }\n",
    "\\end{cases}\n",
    "\\\\\n",
    "\\text{where}\\,\\,\\ell_t^{\\ast} = \\left(\\frac{(1-\\eta)\\kappa_{t}}{w}\\right)^{\\frac{1}{\\eta}} \\\\\n",
    "\n",
    "$$\n",
    "With $\\Delta \\geq 0$ and $\\Delta = 0$ being the previous policy.\n"
   ]
  },
  {
   "attachments": {},
   "cell_type": "markdown",
   "metadata": {},
   "source": [
    "\n",
    "**Question 3:** Calculate $H$ if the policy above was followed with $\\Delta = 0.05$. Does it improve profitability?"
   ]
  },
  {
   "cell_type": "code",
   "execution_count": null,
   "metadata": {},
   "outputs": [],
   "source": [
    "# write your code here"
   ]
  },
  {
   "attachments": {},
   "cell_type": "markdown",
   "metadata": {},
   "source": [
    "**Question 4:** Find the optimal $\\Delta$ maximizing $H$. Illustrate your result."
   ]
  },
  {
   "cell_type": "code",
   "execution_count": null,
   "metadata": {},
   "outputs": [],
   "source": [
    "# write your code here"
   ]
  },
  {
   "attachments": {},
   "cell_type": "markdown",
   "metadata": {},
   "source": [
    "\n",
    "**Question 5:** Suggest an alternative policy you believe might improve profitability. Implement and test your policy.\n",
    "\n"
   ]
  },
  {
   "cell_type": "code",
   "execution_count": null,
   "metadata": {},
   "outputs": [],
   "source": [
    "# write your code here"
   ]
  },
  {
   "attachments": {},
   "cell_type": "markdown",
   "metadata": {},
   "source": [
    "## 3. <a id='toc3_'></a>[Problem 3: Global optimizer with refined multi-start](#toc0_)"
   ]
  },
  {
   "attachments": {},
   "cell_type": "markdown",
   "metadata": {},
   "source": [
    "We consider the Griewank function:\n",
    "\n",
    "$$ f(\\boldsymbol{x}) = \\sum^n_{i=1} \\frac{x^2_i}{4000}-\\prod^n_{i=1}\\cos\\left(\\frac{x_i}{\\sqrt{i}}\\right)+1$$\n",
    "\n",
    "The **global minimum** of this function is $f(0,0) = 0$ (remember: $\\cos(0)=1$).<br>\n",
    "But the function also have a lot of **local minima**."
   ]
  },
  {
   "cell_type": "code",
   "execution_count": null,
   "metadata": {},
   "outputs": [],
   "source": [
    "def griewank(x):\n",
    "    return griewank_(x[0],x[1])\n",
    "    \n",
    "def griewank_(x1,x2):\n",
    "    A = x1**2/4000 + x2**2/4000\n",
    "    B = np.cos(x1/np.sqrt(1))*np.cos(x2/np.sqrt(2))\n",
    "    return A-B+1"
   ]
  },
  {
   "attachments": {},
   "cell_type": "markdown",
   "metadata": {},
   "source": [
    "A **refined global optimizer with multi-start** is:\n",
    "\n",
    "1. Choose *bounds* for $\\mathbf{x}$ and *tolerance* $\\tau > 0$.\n",
    "2. Choose number of *warm-up iterations*, $\\underline{K} > 0$ and *maximum number of iterations*, $K > \\underline{K}$.\n",
    "3. In each iteration for $k \\in \\{0,1,\\dots,K-1\\}$:\n",
    "\n",
    "    A. Draw random $\\mathbf{x}^k$ uniformly within chosen bounds.\n",
    "\n",
    "    B. If $k < \\underline{K}$ go to step E.\n",
    "\n",
    "    C. Calculate $\\chi^k = 0.50\\cdot\\frac{2}{1+\\exp((k-\\underline{K})/100)}$  \n",
    "\n",
    "    D. Set $\\mathbf{x}^{k0} = \\chi^k \\mathbf{x}^k + (1-\\chi^k)\\mathbf{x}^{\\ast} $\n",
    "\n",
    "    E. Run optimizer with $\\mathbf{x}^{k0}$ as initial guess and $\\mathbf{x}^{k\\ast}$ as result.\n",
    "\n",
    "    F. Set $\\mathbf{x}^{\\ast} = \\mathbf{x}^{k\\ast}$ if $k = 0$ or $f(\\mathbf{x}^{k\\ast}) < f(\\mathbf{x}^{\\ast})$\n",
    "\n",
    "    G. If $f(\\mathbf{x}^{\\ast}) < \\tau$ go to step 4.\n",
    "\n",
    "4. Return the result $\\mathbf{x}^{\\ast}$."
   ]
  },
  {
   "attachments": {},
   "cell_type": "markdown",
   "metadata": {},
   "source": [
    "As settings we choose:\n",
    "\n",
    "* $x_1,x_2 \\in  [-600,600]$\n",
    "* $\\tau = 10^{-8}$\n",
    "* $\\underline{K}=10$\n",
    "* $K=1000$\n",
    "\n",
    "The optimizer in Step 3.E is `BFGS` with a tolerance of $\\tau$."
   ]
  },
  {
   "attachments": {},
   "cell_type": "markdown",
   "metadata": {},
   "source": [
    "**Question 1:** Implement the refined global optimizer with multi-start. Illustrate how the effective initial guesses $\\mathbf{x}^{k0}$ vary with the iteration counter $k$."
   ]
  },
  {
   "cell_type": "code",
   "execution_count": null,
   "metadata": {},
   "outputs": [],
   "source": [
    "#chatgbt\n",
    "\n",
    "import numpy as np\n",
    "\n",
    "def griewank(x):\n",
    "    return griewank_(x[0], x[1])\n",
    "\n",
    "def griewank_(x1, x2):\n",
    "    A = x1**2 / 4000 + x2**2 / 4000\n",
    "    B = np.cos(x1 / np.sqrt(1)) * np.cos(x2 / np.sqrt(2))\n",
    "    return A - B + 1\n",
    "\n",
    "def optimize_griewank(bounds, tolerance, K_1, K):\n",
    "    x_star = None\n",
    "\n",
    "    for k in range(K):\n",
    "        # Step 3A: Generate random x^k uniformly within the chosen bounds\n",
    "        x_k = np.random.uniform(bounds[0], bounds[1], size=2)\n",
    "\n",
    "        if k < K_1:\n",
    "            # Step 3B: Skip to step E if k < K_1\n",
    "            x_k0 = x_k\n",
    "        else:\n",
    "            # Step 3C: Calculate chi^k\n",
    "            chi_k = 0.50 * (2 / (1 + np.exp((k - K_1) / 100)))\n",
    "\n",
    "            # Step 3D: Compute x^(k0)\n",
    "            x_k0 = chi_k * x_k + (1 - chi_k) * x_star\n",
    "\n",
    "        # Step 3E: Run optimizer with x^(k0) as initial guess and store the result in x^(k*)\n",
    "        x_k_star = optimizer(x_k0)  # Replace 'optimizer' with the appropriate optimization method\n",
    "\n",
    "        # Step 3F: Update the best solution x^*\n",
    "        if k == 0 or griewank(x_k_star) < griewank(x_star):\n",
    "            x_star = x_k_star\n",
    "\n",
    "        # Step 3G: Check the termination condition\n",
    "        if griewank(x_star) < tolerance:\n",
    "            break\n",
    "\n",
    "    # Step 4: Return the best solution x^*\n",
    "    return x_star\n"
   ]
  },
  {
   "cell_type": "code",
   "execution_count": 427,
   "metadata": {},
   "outputs": [
    {
     "name": "stdout",
     "output_type": "stream",
     "text": [
      "[-562.0304048070566]\n",
      "[-562.0304048070566, -562.0304048070566]\n",
      "[-562.0304048070566, -562.0304048070566, -562.0304048070566]\n",
      "[-562.0304048070566, -562.0304048070566, -562.0304048070566, -562.0304048070566]\n",
      "[-562.0304048070566, -562.0304048070566, -562.0304048070566, -562.0304048070566, -562.0304048070566]\n",
      "[-562.0304048070566, -562.0304048070566, -562.0304048070566, -562.0304048070566, -562.0304048070566, -562.0304048070566]\n",
      "[-562.0304048070566, -562.0304048070566, -562.0304048070566, -562.0304048070566, -562.0304048070566, -562.0304048070566, -562.0304048070566]\n",
      "[-562.0304048070566, -562.0304048070566, -562.0304048070566, -562.0304048070566, -562.0304048070566, -562.0304048070566, -562.0304048070566, -562.0304048070566]\n",
      "[-562.0304048070566, -562.0304048070566, -562.0304048070566, -562.0304048070566, -562.0304048070566, -562.0304048070566, -562.0304048070566, -562.0304048070566, -562.0304048070566]\n"
     ]
    },
    {
     "ename": "KeyboardInterrupt",
     "evalue": "",
     "output_type": "error",
     "traceback": [
      "\u001b[1;31m---------------------------------------------------------------------------\u001b[0m",
      "\u001b[1;31mKeyboardInterrupt\u001b[0m                         Traceback (most recent call last)",
      "\u001b[1;32m~\\AppData\\Local\\Temp\\ipykernel_13360\\2882846025.py\u001b[0m in \u001b[0;36m<module>\u001b[1;34m\u001b[0m\n\u001b[0;32m     21\u001b[0m \u001b[1;32mfor\u001b[0m \u001b[0mk\u001b[0m\u001b[1;33m,\u001b[0m\u001b[0mx\u001b[0m \u001b[1;32min\u001b[0m \u001b[0menumerate\u001b[0m\u001b[1;33m(\u001b[0m\u001b[0mx\u001b[0m\u001b[1;33m)\u001b[0m\u001b[1;33m:\u001b[0m\u001b[1;33m\u001b[0m\u001b[1;33m\u001b[0m\u001b[0m\n\u001b[0;32m     22\u001b[0m    \u001b[1;32mif\u001b[0m \u001b[0mk\u001b[0m \u001b[1;33m<\u001b[0m \u001b[0mK_\u001b[0m\u001b[1;33m:\u001b[0m\u001b[1;33m\u001b[0m\u001b[1;33m\u001b[0m\u001b[0m\n\u001b[1;32m---> 23\u001b[1;33m       \u001b[0mres\u001b[0m\u001b[1;33m=\u001b[0m\u001b[0moptimize\u001b[0m\u001b[1;33m.\u001b[0m\u001b[0mminimize\u001b[0m\u001b[1;33m(\u001b[0m\u001b[0mgriewank\u001b[0m\u001b[1;33m,\u001b[0m\u001b[0mx0\u001b[0m\u001b[1;33m,\u001b[0m\u001b[0mmethod\u001b[0m\u001b[1;33m=\u001b[0m\u001b[1;34m'BFGS'\u001b[0m\u001b[1;33m,\u001b[0m\u001b[0mtol\u001b[0m\u001b[1;33m=\u001b[0m\u001b[0mtau\u001b[0m\u001b[1;33m)\u001b[0m\u001b[1;33m\u001b[0m\u001b[1;33m\u001b[0m\u001b[0m\n\u001b[0m\u001b[0;32m     24\u001b[0m       \u001b[0mxk_star\u001b[0m\u001b[1;33m.\u001b[0m\u001b[0mappend\u001b[0m\u001b[1;33m(\u001b[0m\u001b[0mres\u001b[0m\u001b[1;33m.\u001b[0m\u001b[0mx\u001b[0m\u001b[1;33m[\u001b[0m\u001b[1;36m0\u001b[0m\u001b[1;33m]\u001b[0m\u001b[1;33m)\u001b[0m\u001b[1;33m\u001b[0m\u001b[1;33m\u001b[0m\u001b[0m\n\u001b[0;32m     25\u001b[0m       \u001b[1;32mif\u001b[0m \u001b[0mk\u001b[0m\u001b[1;33m==\u001b[0m\u001b[1;36m0\u001b[0m\u001b[1;33m:\u001b[0m\u001b[1;33m\u001b[0m\u001b[1;33m\u001b[0m\u001b[0m\n",
      "\u001b[1;32mc:\\Users\\jacob\\anaconda3\\lib\\site-packages\\scipy\\optimize\\_minimize.py\u001b[0m in \u001b[0;36mminimize\u001b[1;34m(fun, x0, args, method, jac, hess, hessp, bounds, constraints, tol, callback, options)\u001b[0m\n\u001b[0;32m    689\u001b[0m         \u001b[0mres\u001b[0m \u001b[1;33m=\u001b[0m \u001b[0m_minimize_cg\u001b[0m\u001b[1;33m(\u001b[0m\u001b[0mfun\u001b[0m\u001b[1;33m,\u001b[0m \u001b[0mx0\u001b[0m\u001b[1;33m,\u001b[0m \u001b[0margs\u001b[0m\u001b[1;33m,\u001b[0m \u001b[0mjac\u001b[0m\u001b[1;33m,\u001b[0m \u001b[0mcallback\u001b[0m\u001b[1;33m,\u001b[0m \u001b[1;33m**\u001b[0m\u001b[0moptions\u001b[0m\u001b[1;33m)\u001b[0m\u001b[1;33m\u001b[0m\u001b[1;33m\u001b[0m\u001b[0m\n\u001b[0;32m    690\u001b[0m     \u001b[1;32melif\u001b[0m \u001b[0mmeth\u001b[0m \u001b[1;33m==\u001b[0m \u001b[1;34m'bfgs'\u001b[0m\u001b[1;33m:\u001b[0m\u001b[1;33m\u001b[0m\u001b[1;33m\u001b[0m\u001b[0m\n\u001b[1;32m--> 691\u001b[1;33m         \u001b[0mres\u001b[0m \u001b[1;33m=\u001b[0m \u001b[0m_minimize_bfgs\u001b[0m\u001b[1;33m(\u001b[0m\u001b[0mfun\u001b[0m\u001b[1;33m,\u001b[0m \u001b[0mx0\u001b[0m\u001b[1;33m,\u001b[0m \u001b[0margs\u001b[0m\u001b[1;33m,\u001b[0m \u001b[0mjac\u001b[0m\u001b[1;33m,\u001b[0m \u001b[0mcallback\u001b[0m\u001b[1;33m,\u001b[0m \u001b[1;33m**\u001b[0m\u001b[0moptions\u001b[0m\u001b[1;33m)\u001b[0m\u001b[1;33m\u001b[0m\u001b[1;33m\u001b[0m\u001b[0m\n\u001b[0m\u001b[0;32m    692\u001b[0m     \u001b[1;32melif\u001b[0m \u001b[0mmeth\u001b[0m \u001b[1;33m==\u001b[0m \u001b[1;34m'newton-cg'\u001b[0m\u001b[1;33m:\u001b[0m\u001b[1;33m\u001b[0m\u001b[1;33m\u001b[0m\u001b[0m\n\u001b[0;32m    693\u001b[0m         res = _minimize_newtoncg(fun, x0, args, jac, hess, hessp, callback,\n",
      "\u001b[1;32mc:\\Users\\jacob\\anaconda3\\lib\\site-packages\\scipy\\optimize\\_optimize.py\u001b[0m in \u001b[0;36m_minimize_bfgs\u001b[1;34m(fun, x0, args, jac, callback, gtol, norm, eps, maxiter, disp, return_all, finite_diff_rel_step, xrtol, **unknown_options)\u001b[0m\n\u001b[0;32m   1436\u001b[0m \u001b[1;33m\u001b[0m\u001b[0m\n\u001b[0;32m   1437\u001b[0m         \u001b[0mA1\u001b[0m \u001b[1;33m=\u001b[0m \u001b[0mI\u001b[0m \u001b[1;33m-\u001b[0m \u001b[0msk\u001b[0m\u001b[1;33m[\u001b[0m\u001b[1;33m:\u001b[0m\u001b[1;33m,\u001b[0m \u001b[0mnp\u001b[0m\u001b[1;33m.\u001b[0m\u001b[0mnewaxis\u001b[0m\u001b[1;33m]\u001b[0m \u001b[1;33m*\u001b[0m \u001b[0myk\u001b[0m\u001b[1;33m[\u001b[0m\u001b[0mnp\u001b[0m\u001b[1;33m.\u001b[0m\u001b[0mnewaxis\u001b[0m\u001b[1;33m,\u001b[0m \u001b[1;33m:\u001b[0m\u001b[1;33m]\u001b[0m \u001b[1;33m*\u001b[0m \u001b[0mrhok\u001b[0m\u001b[1;33m\u001b[0m\u001b[1;33m\u001b[0m\u001b[0m\n\u001b[1;32m-> 1438\u001b[1;33m         \u001b[0mA2\u001b[0m \u001b[1;33m=\u001b[0m \u001b[0mI\u001b[0m \u001b[1;33m-\u001b[0m \u001b[0myk\u001b[0m\u001b[1;33m[\u001b[0m\u001b[1;33m:\u001b[0m\u001b[1;33m,\u001b[0m \u001b[0mnp\u001b[0m\u001b[1;33m.\u001b[0m\u001b[0mnewaxis\u001b[0m\u001b[1;33m]\u001b[0m \u001b[1;33m*\u001b[0m \u001b[0msk\u001b[0m\u001b[1;33m[\u001b[0m\u001b[0mnp\u001b[0m\u001b[1;33m.\u001b[0m\u001b[0mnewaxis\u001b[0m\u001b[1;33m,\u001b[0m \u001b[1;33m:\u001b[0m\u001b[1;33m]\u001b[0m \u001b[1;33m*\u001b[0m \u001b[0mrhok\u001b[0m\u001b[1;33m\u001b[0m\u001b[1;33m\u001b[0m\u001b[0m\n\u001b[0m\u001b[0;32m   1439\u001b[0m         Hk = np.dot(A1, np.dot(Hk, A2)) + (rhok * sk[:, np.newaxis] *\n\u001b[0;32m   1440\u001b[0m                                                  sk[np.newaxis, :])\n",
      "\u001b[1;31mKeyboardInterrupt\u001b[0m: "
     ]
    }
   ],
   "source": [
    "# 1. choose bounds x and tolerance tau > 0\n",
    "x1 = -600\n",
    "x2 = 600\n",
    "tau = 10**(-8)\n",
    "\n",
    "# 2. choose number of warm-up iterations K_ > 0 and maximum number of iterations K > K_\n",
    "K_ = 10\n",
    "K = 1000\n",
    "\n",
    "# 3. \n",
    "# A. draw random x^k uniformly within bounds\n",
    "x=[]\n",
    "k=0\n",
    "while k < K:\n",
    "   x.append(np.random.uniform(x1,x2))\n",
    "   k += 1\n",
    "# B. if k < K_ go to E\n",
    "xk_star=[]\n",
    "x0=np.ones(K)*x[0]\n",
    "\n",
    "for k,x in enumerate(x):\n",
    "   if k < K_:\n",
    "      res=optimize.minimize(griewank,x0,method='BFGS',tol=tau)\n",
    "      xk_star.append(res.x[0])\n",
    "      if k==0:\n",
    "         x_star=xk_star\n",
    "      elif griewank(xk_star) < griewank(x_star):\n",
    "         x_star=xk_star\n",
    "      print(xk_star)\n",
    "# C. calculate xk\n",
    "   elif k >= K_:\n",
    "      xk=0.5*2/(1+np.exp((k-K_)/100))\n",
    "# D. set xk0\n",
    "      xk0=np.ones(K)*(xk*x+(1-xk)*x_star)\n",
    "# E. run optimizer\n",
    "      res2=optimize.minimize(griewank,xk0,method='BFGS',tol=tau)\n",
    "      xk_star[k]=res2.x[0]\n",
    "# F. set x_star \n",
    "      if k==0 or griewank(xk_star) < griewank(x_star):\n",
    "         x_star=xk_star\n",
    "\n",
    "# G. go to step 4         \n",
    "         if griewank(x_star) < tau:\n",
    "            break   \n",
    "\n",
    "# 4. return x_star\n",
    "print(x_star)\n"
   ]
  },
  {
   "attachments": {},
   "cell_type": "markdown",
   "metadata": {},
   "source": [
    "**Question 2:** Is it a better idea to set $\\underline{K} = 100$? Is the convergence faster?"
   ]
  },
  {
   "cell_type": "code",
   "execution_count": null,
   "metadata": {},
   "outputs": [],
   "source": [
    "# write your code here"
   ]
  }
 ],
 "metadata": {
  "kernelspec": {
   "display_name": "base",
   "language": "python",
   "name": "python3"
  },
  "language_info": {
   "codemirror_mode": {
    "name": "ipython",
    "version": 3
   },
   "file_extension": ".py",
   "mimetype": "text/x-python",
   "name": "python",
   "nbconvert_exporter": "python",
   "pygments_lexer": "ipython3",
   "version": "3.9.15"
  },
  "orig_nbformat": 4
 },
 "nbformat": 4,
 "nbformat_minor": 2
}
